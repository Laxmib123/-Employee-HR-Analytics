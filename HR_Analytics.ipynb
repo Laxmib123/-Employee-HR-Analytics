{
  "nbformat": 4,
  "nbformat_minor": 0,
  "metadata": {
    "colab": {
      "provenance": [],
      "authorship_tag": "ABX9TyNxIlfR9yPyqXwKr5fREZZz",
      "include_colab_link": true
    },
    "kernelspec": {
      "name": "python3",
      "display_name": "Python 3"
    },
    "language_info": {
      "name": "python"
    }
  },
  "cells": [
    {
      "cell_type": "markdown",
      "metadata": {
        "id": "view-in-github",
        "colab_type": "text"
      },
      "source": [
        "<a href=\"https://colab.research.google.com/github/Laxmib123/-Employee-HR-Analytics/blob/main/HR_Analytics.ipynb\" target=\"_parent\"><img src=\"https://colab.research.google.com/assets/colab-badge.svg\" alt=\"Open In Colab\"/></a>"
      ]
    },
    {
      "cell_type": "code",
      "execution_count": 1,
      "metadata": {
        "id": "7VizNSFKeXAG"
      },
      "outputs": [],
      "source": [
        "import pandas as pd\n",
        "from matplotlib import pyplot as plt\n",
        "import seaborn as sns\n",
        "import numpy as np\n",
        "\n",
        "import os\n",
        "os.makedirs(\"charts\", exist_ok=True)"
      ]
    },
    {
      "cell_type": "code",
      "source": [
        "import sqlite3\n",
        "\n",
        "# Create in-memory database\n",
        "conn = sqlite3.connect(':memory:')\n",
        "cursor = conn.cursor()"
      ],
      "metadata": {
        "id": "AZuH7K-i0dOm"
      },
      "execution_count": 2,
      "outputs": []
    },
    {
      "cell_type": "code",
      "source": [
        "\n",
        "\n",
        "# Create table\n",
        "cursor.execute('''\n",
        "CREATE TABLE Employees (\n",
        "    EmpID TEXT PRIMARY KEY,\n",
        "    Name TEXT,\n",
        "    Department TEXT,\n",
        "    Gender TEXT,\n",
        "    Salary INTEGER,\n",
        "    YearsAtCompany INTEGER,\n",
        "    Age INTEGER,\n",
        "    JobRole TEXT\n",
        ")\n",
        "''')\n",
        "\n",
        "# List of all employees as tuples\n",
        "employees_data = [\n",
        "    ('E001', 'Ram', 'Sales', 'Male', 55000, 2, 28, 'Sales Executive'),\n",
        "    ('E002', 'Sita', 'HR', 'Female', 48000, 4, 32, 'HR Manager'),\n",
        "    ('E003', 'Hari', 'IT', 'Male', 60000, 1, 26, 'Software Engineer'),\n",
        "    ('E004', 'Gita', 'Sales', 'Female', 52000, 3, 29, 'Sales Executive'),\n",
        "    ('E005', 'Ramesh', 'Finance', 'Male', 47000, 5, 35, 'Accountant'),\n",
        "    ('E006', 'Suman', 'IT', 'Male', 75000, 6, 38, 'Senior Developer'),\n",
        "    ('E007', 'Anita', 'HR', 'Female', 45000, 2, 27, 'HR Executive'),\n",
        "    ('E008', 'Bikash', 'Sales', 'Male', 58000, 1, 25, 'Sales Executive'),\n",
        "    ('E009', 'Rekha', 'Finance', 'Female', 50000, 3, 30, 'Accountant'),\n",
        "    ('E010', 'Sujan', 'IT', 'Male', 65000, 2, 28, 'Software Engineer'),\n",
        "    ('E011', 'Kiran', 'IT', 'Male', 61000, 3, 29, 'Software Engineer'),\n",
        "    ('E012', 'Mina', 'Sales', 'Female', 53000, 2, 27, 'Sales Executive'),\n",
        "    ('E013', 'Dipak', 'Finance', 'Male', 48000, 4, 33, 'Accountant'),\n",
        "    ('E014', 'Laxmi', 'HR', 'Female', 46000, 1, 25, 'HR Executive'),\n",
        "    ('E015', 'Prakash', 'IT', 'Male', 72000, 5, 36, 'Senior Developer'),\n",
        "    ('E016', 'Sabina', 'Sales', 'Female', 59000, 2, 28, 'Sales Executive'),\n",
        "    ('E017', 'Raj', 'Finance', 'Male', 51000, 3, 31, 'Accountant'),\n",
        "    ('E018', 'Pooja', 'HR', 'Female', 47000, 2, 26, 'HR Executive'),\n",
        "    ('E019', 'Anil', 'IT', 'Male', 64000, 4, 30, 'Software Engineer'),\n",
        "    ('E020', 'Sonal', 'Sales', 'Female', 56000, 1, 24, 'Sales Executive'),\n",
        "    ('E021', 'Manoj', 'IT', 'Male', 63000, 3, 29, 'Software Engineer'),\n",
        "    ('E022', 'Rina', 'Sales', 'Female', 54000, 2, 27, 'Sales Executive'),\n",
        "    ('E023', 'Kamal', 'Finance', 'Male', 49000, 4, 32, 'Accountant'),\n",
        "    ('E024', 'Sita', 'HR', 'Female', 46000, 3, 28, 'HR Executive'),\n",
        "    ('E025', 'Nabin', 'IT', 'Male', 71000, 5, 35, 'Senior Developer'),\n",
        "    ('E026', 'Bina', 'Sales', 'Female', 57000, 1, 25, 'Sales Executive'),\n",
        "    ('E027', 'Ramesh', 'Finance', 'Male', 50000, 2, 30, 'Accountant'),\n",
        "    ('E028', 'Anita', 'HR', 'Female', 45000, 2, 26, 'HR Executive'),\n",
        "    ('E029', 'Sujan', 'IT', 'Male', 65000, 4, 31, 'Software Engineer'),\n",
        "    ('E030', 'Mina', 'Sales', 'Female', 53000, 3, 28, 'Sales Executive'),\n",
        "    ('E031', 'Ram', 'Sales', 'Male', 56000, 2, 29, 'Sales Executive'),\n",
        "    ('E032', 'Hari', 'IT', 'Male', 62000, 1, 27, 'Software Engineer'),\n",
        "    ('E033', 'Pooja', 'HR', 'Female', 47000, 2, 26, 'HR Executive'),\n",
        "    ('E034', 'Dipak', 'Finance', 'Male', 48000, 3, 33, 'Accountant'),\n",
        "    ('E035', 'Sabina', 'Sales', 'Female', 59000, 2, 28, 'Sales Executive'),\n",
        "    ('E036', 'Anil', 'IT', 'Male', 64000, 4, 30, 'Software Engineer'),\n",
        "    ('E037', 'Rekha', 'Finance', 'Female', 50000, 3, 31, 'Accountant'),\n",
        "    ('E038', 'Gita', 'Sales', 'Female', 52000, 3, 29, 'Sales Executive'),\n",
        "    ('E039', 'Suman', 'IT', 'Male', 75000, 6, 38, 'Senior Developer'),\n",
        "    ('E040', 'Kiran', 'IT', 'Male', 61000, 3, 29, 'Software Engineer'),\n",
        "    ('E041', 'Rohit', 'IT', 'Male', 68000, 2, 30, 'Software Engineer'),\n",
        "    ('E042', 'Maya', 'Sales', 'Female', 55000, 3, 27, 'Sales Executive'),\n",
        "    ('E043', 'Sanjay', 'Finance', 'Male', 47000, 4, 33, 'Accountant'),\n",
        "    ('E044', 'Rekha', 'HR', 'Female', 46000, 2, 28, 'HR Executive'),\n",
        "    ('E045', 'Dipesh', 'IT', 'Male', 72000, 5, 36, 'Senior Developer'),\n",
        "    ('E046', 'Anju', 'Sales', 'Female', 58000, 1, 26, 'Sales Executive'),\n",
        "    ('E047', 'Ramesh', 'Finance', 'Male', 50000, 3, 31, 'Accountant'),\n",
        "    ('E048', 'Pooja', 'HR', 'Female', 47000, 2, 27, 'HR Executive'),\n",
        "    ('E049', 'Sujan', 'IT', 'Male', 65000, 2, 28, 'Software Engineer'),\n",
        "    ('E050', 'Bina', 'Sales', 'Female', 54000, 1, 25, 'Sales Executive')\n",
        "]\n",
        "\n",
        "cursor.executemany('''\n",
        "INSERT INTO Employees (EmpID, Name, Department, Gender, Salary, YearsAtCompany, Age, JobRole)\n",
        "VALUES (?, ?, ?, ?, ?, ?, ?, ?)\n",
        "''', employees_data)\n"
      ],
      "metadata": {
        "colab": {
          "base_uri": "https://localhost:8080/"
        },
        "id": "nt85vIKLRTQo",
        "outputId": "e068a122-00ad-42ee-b569-51eebba690c7"
      },
      "execution_count": 3,
      "outputs": [
        {
          "output_type": "execute_result",
          "data": {
            "text/plain": [
              "<sqlite3.Cursor at 0x7b73df16d140>"
            ]
          },
          "metadata": {},
          "execution_count": 3
        }
      ]
    },
    {
      "cell_type": "code",
      "source": [
        "\n",
        "#Show all employee\n",
        "sql = \"SELECT * FROM Employees\"\n",
        "cursor.execute(sql)\n",
        "for row in cursor.fetchall():\n",
        "    print(row)\n",
        "# for i in cursor.fetchall():\n",
        "#   print(i)"
      ],
      "metadata": {
        "colab": {
          "base_uri": "https://localhost:8080/"
        },
        "id": "CCCgKvUnzjXC",
        "outputId": "1d637705-7e77-42e5-d00d-3bbd67af2b27"
      },
      "execution_count": 4,
      "outputs": [
        {
          "output_type": "stream",
          "name": "stdout",
          "text": [
            "('E001', 'Ram', 'Sales', 'Male', 55000, 2, 28, 'Sales Executive')\n",
            "('E002', 'Sita', 'HR', 'Female', 48000, 4, 32, 'HR Manager')\n",
            "('E003', 'Hari', 'IT', 'Male', 60000, 1, 26, 'Software Engineer')\n",
            "('E004', 'Gita', 'Sales', 'Female', 52000, 3, 29, 'Sales Executive')\n",
            "('E005', 'Ramesh', 'Finance', 'Male', 47000, 5, 35, 'Accountant')\n",
            "('E006', 'Suman', 'IT', 'Male', 75000, 6, 38, 'Senior Developer')\n",
            "('E007', 'Anita', 'HR', 'Female', 45000, 2, 27, 'HR Executive')\n",
            "('E008', 'Bikash', 'Sales', 'Male', 58000, 1, 25, 'Sales Executive')\n",
            "('E009', 'Rekha', 'Finance', 'Female', 50000, 3, 30, 'Accountant')\n",
            "('E010', 'Sujan', 'IT', 'Male', 65000, 2, 28, 'Software Engineer')\n",
            "('E011', 'Kiran', 'IT', 'Male', 61000, 3, 29, 'Software Engineer')\n",
            "('E012', 'Mina', 'Sales', 'Female', 53000, 2, 27, 'Sales Executive')\n",
            "('E013', 'Dipak', 'Finance', 'Male', 48000, 4, 33, 'Accountant')\n",
            "('E014', 'Laxmi', 'HR', 'Female', 46000, 1, 25, 'HR Executive')\n",
            "('E015', 'Prakash', 'IT', 'Male', 72000, 5, 36, 'Senior Developer')\n",
            "('E016', 'Sabina', 'Sales', 'Female', 59000, 2, 28, 'Sales Executive')\n",
            "('E017', 'Raj', 'Finance', 'Male', 51000, 3, 31, 'Accountant')\n",
            "('E018', 'Pooja', 'HR', 'Female', 47000, 2, 26, 'HR Executive')\n",
            "('E019', 'Anil', 'IT', 'Male', 64000, 4, 30, 'Software Engineer')\n",
            "('E020', 'Sonal', 'Sales', 'Female', 56000, 1, 24, 'Sales Executive')\n",
            "('E021', 'Manoj', 'IT', 'Male', 63000, 3, 29, 'Software Engineer')\n",
            "('E022', 'Rina', 'Sales', 'Female', 54000, 2, 27, 'Sales Executive')\n",
            "('E023', 'Kamal', 'Finance', 'Male', 49000, 4, 32, 'Accountant')\n",
            "('E024', 'Sita', 'HR', 'Female', 46000, 3, 28, 'HR Executive')\n",
            "('E025', 'Nabin', 'IT', 'Male', 71000, 5, 35, 'Senior Developer')\n",
            "('E026', 'Bina', 'Sales', 'Female', 57000, 1, 25, 'Sales Executive')\n",
            "('E027', 'Ramesh', 'Finance', 'Male', 50000, 2, 30, 'Accountant')\n",
            "('E028', 'Anita', 'HR', 'Female', 45000, 2, 26, 'HR Executive')\n",
            "('E029', 'Sujan', 'IT', 'Male', 65000, 4, 31, 'Software Engineer')\n",
            "('E030', 'Mina', 'Sales', 'Female', 53000, 3, 28, 'Sales Executive')\n",
            "('E031', 'Ram', 'Sales', 'Male', 56000, 2, 29, 'Sales Executive')\n",
            "('E032', 'Hari', 'IT', 'Male', 62000, 1, 27, 'Software Engineer')\n",
            "('E033', 'Pooja', 'HR', 'Female', 47000, 2, 26, 'HR Executive')\n",
            "('E034', 'Dipak', 'Finance', 'Male', 48000, 3, 33, 'Accountant')\n",
            "('E035', 'Sabina', 'Sales', 'Female', 59000, 2, 28, 'Sales Executive')\n",
            "('E036', 'Anil', 'IT', 'Male', 64000, 4, 30, 'Software Engineer')\n",
            "('E037', 'Rekha', 'Finance', 'Female', 50000, 3, 31, 'Accountant')\n",
            "('E038', 'Gita', 'Sales', 'Female', 52000, 3, 29, 'Sales Executive')\n",
            "('E039', 'Suman', 'IT', 'Male', 75000, 6, 38, 'Senior Developer')\n",
            "('E040', 'Kiran', 'IT', 'Male', 61000, 3, 29, 'Software Engineer')\n",
            "('E041', 'Rohit', 'IT', 'Male', 68000, 2, 30, 'Software Engineer')\n",
            "('E042', 'Maya', 'Sales', 'Female', 55000, 3, 27, 'Sales Executive')\n",
            "('E043', 'Sanjay', 'Finance', 'Male', 47000, 4, 33, 'Accountant')\n",
            "('E044', 'Rekha', 'HR', 'Female', 46000, 2, 28, 'HR Executive')\n",
            "('E045', 'Dipesh', 'IT', 'Male', 72000, 5, 36, 'Senior Developer')\n",
            "('E046', 'Anju', 'Sales', 'Female', 58000, 1, 26, 'Sales Executive')\n",
            "('E047', 'Ramesh', 'Finance', 'Male', 50000, 3, 31, 'Accountant')\n",
            "('E048', 'Pooja', 'HR', 'Female', 47000, 2, 27, 'HR Executive')\n",
            "('E049', 'Sujan', 'IT', 'Male', 65000, 2, 28, 'Software Engineer')\n",
            "('E050', 'Bina', 'Sales', 'Female', 54000, 1, 25, 'Sales Executive')\n"
          ]
        }
      ]
    },
    {
      "cell_type": "code",
      "source": [
        "#Show employees from IT department only.\n",
        "\n",
        "sql = \"SELECT * FROM Employees WHERE Department = 'IT'\"\n",
        "cursor.execute(sql)\n",
        "\n",
        "for row in cursor.fetchall():\n",
        "  print(row)\n",
        "\n",
        "\n",
        "\n"
      ],
      "metadata": {
        "id": "hceFk2gCPFS3",
        "colab": {
          "base_uri": "https://localhost:8080/"
        },
        "outputId": "76ab8926-f5df-4656-a257-47f882b7ab97"
      },
      "execution_count": 5,
      "outputs": [
        {
          "output_type": "stream",
          "name": "stdout",
          "text": [
            "('E003', 'Hari', 'IT', 'Male', 60000, 1, 26, 'Software Engineer')\n",
            "('E006', 'Suman', 'IT', 'Male', 75000, 6, 38, 'Senior Developer')\n",
            "('E010', 'Sujan', 'IT', 'Male', 65000, 2, 28, 'Software Engineer')\n",
            "('E011', 'Kiran', 'IT', 'Male', 61000, 3, 29, 'Software Engineer')\n",
            "('E015', 'Prakash', 'IT', 'Male', 72000, 5, 36, 'Senior Developer')\n",
            "('E019', 'Anil', 'IT', 'Male', 64000, 4, 30, 'Software Engineer')\n",
            "('E021', 'Manoj', 'IT', 'Male', 63000, 3, 29, 'Software Engineer')\n",
            "('E025', 'Nabin', 'IT', 'Male', 71000, 5, 35, 'Senior Developer')\n",
            "('E029', 'Sujan', 'IT', 'Male', 65000, 4, 31, 'Software Engineer')\n",
            "('E032', 'Hari', 'IT', 'Male', 62000, 1, 27, 'Software Engineer')\n",
            "('E036', 'Anil', 'IT', 'Male', 64000, 4, 30, 'Software Engineer')\n",
            "('E039', 'Suman', 'IT', 'Male', 75000, 6, 38, 'Senior Developer')\n",
            "('E040', 'Kiran', 'IT', 'Male', 61000, 3, 29, 'Software Engineer')\n",
            "('E041', 'Rohit', 'IT', 'Male', 68000, 2, 30, 'Software Engineer')\n",
            "('E045', 'Dipesh', 'IT', 'Male', 72000, 5, 36, 'Senior Developer')\n",
            "('E049', 'Sujan', 'IT', 'Male', 65000, 2, 28, 'Software Engineer')\n"
          ]
        }
      ]
    },
    {
      "cell_type": "code",
      "source": [
        "#Show employees whose salary > 60,000.\n",
        "\n",
        "sql = \"SELECT * FROM Employees WHERE salary > 60000\"\n",
        "cursor.execute(sql)\n",
        "\n",
        "for row in cursor.fetchall():\n",
        "  print(row)\n"
      ],
      "metadata": {
        "colab": {
          "base_uri": "https://localhost:8080/"
        },
        "id": "8RMetRXy15qS",
        "outputId": "5827b401-0f1c-46ce-bbf7-65f44934b992"
      },
      "execution_count": 6,
      "outputs": [
        {
          "output_type": "stream",
          "name": "stdout",
          "text": [
            "('E006', 'Suman', 'IT', 'Male', 75000, 6, 38, 'Senior Developer')\n",
            "('E010', 'Sujan', 'IT', 'Male', 65000, 2, 28, 'Software Engineer')\n",
            "('E011', 'Kiran', 'IT', 'Male', 61000, 3, 29, 'Software Engineer')\n",
            "('E015', 'Prakash', 'IT', 'Male', 72000, 5, 36, 'Senior Developer')\n",
            "('E019', 'Anil', 'IT', 'Male', 64000, 4, 30, 'Software Engineer')\n",
            "('E021', 'Manoj', 'IT', 'Male', 63000, 3, 29, 'Software Engineer')\n",
            "('E025', 'Nabin', 'IT', 'Male', 71000, 5, 35, 'Senior Developer')\n",
            "('E029', 'Sujan', 'IT', 'Male', 65000, 4, 31, 'Software Engineer')\n",
            "('E032', 'Hari', 'IT', 'Male', 62000, 1, 27, 'Software Engineer')\n",
            "('E036', 'Anil', 'IT', 'Male', 64000, 4, 30, 'Software Engineer')\n",
            "('E039', 'Suman', 'IT', 'Male', 75000, 6, 38, 'Senior Developer')\n",
            "('E040', 'Kiran', 'IT', 'Male', 61000, 3, 29, 'Software Engineer')\n",
            "('E041', 'Rohit', 'IT', 'Male', 68000, 2, 30, 'Software Engineer')\n",
            "('E045', 'Dipesh', 'IT', 'Male', 72000, 5, 36, 'Senior Developer')\n",
            "('E049', 'Sujan', 'IT', 'Male', 65000, 2, 28, 'Software Engineer')\n"
          ]
        }
      ]
    },
    {
      "cell_type": "code",
      "source": [
        "#Show employees whose name starts with “R”.\n",
        "sql = \"SELECT * fROM Employees WHERE name LIKE 'R%'\"\n",
        "cursor.execute(sql)\n",
        "\n",
        "for row in cursor.fetchall():\n",
        "  print(row)\n"
      ],
      "metadata": {
        "colab": {
          "base_uri": "https://localhost:8080/"
        },
        "id": "OaQHmy8e2SYl",
        "outputId": "0eada9b4-9d48-4843-aa4f-03ed9a08fb7d"
      },
      "execution_count": 7,
      "outputs": [
        {
          "output_type": "stream",
          "name": "stdout",
          "text": [
            "('E001', 'Ram', 'Sales', 'Male', 55000, 2, 28, 'Sales Executive')\n",
            "('E005', 'Ramesh', 'Finance', 'Male', 47000, 5, 35, 'Accountant')\n",
            "('E009', 'Rekha', 'Finance', 'Female', 50000, 3, 30, 'Accountant')\n",
            "('E017', 'Raj', 'Finance', 'Male', 51000, 3, 31, 'Accountant')\n",
            "('E022', 'Rina', 'Sales', 'Female', 54000, 2, 27, 'Sales Executive')\n",
            "('E027', 'Ramesh', 'Finance', 'Male', 50000, 2, 30, 'Accountant')\n",
            "('E031', 'Ram', 'Sales', 'Male', 56000, 2, 29, 'Sales Executive')\n",
            "('E037', 'Rekha', 'Finance', 'Female', 50000, 3, 31, 'Accountant')\n",
            "('E041', 'Rohit', 'IT', 'Male', 68000, 2, 30, 'Software Engineer')\n",
            "('E044', 'Rekha', 'HR', 'Female', 46000, 2, 28, 'HR Executive')\n",
            "('E047', 'Ramesh', 'Finance', 'Male', 50000, 3, 31, 'Accountant')\n"
          ]
        }
      ]
    },
    {
      "cell_type": "code",
      "source": [
        "#Find employees who joined ≤ 2 years ago.\n",
        "sql = \"SELECT * fROM Employees WHERE YearsAtCompany <= 2\"\n",
        "cursor.execute(sql)\n",
        "\n",
        "for row in cursor.fetchall():\n",
        "  print(row)\n"
      ],
      "metadata": {
        "colab": {
          "base_uri": "https://localhost:8080/"
        },
        "id": "PNWipFCk23J2",
        "outputId": "4e9c2701-a017-4c17-8959-79c2421cd682"
      },
      "execution_count": 8,
      "outputs": [
        {
          "output_type": "stream",
          "name": "stdout",
          "text": [
            "('E001', 'Ram', 'Sales', 'Male', 55000, 2, 28, 'Sales Executive')\n",
            "('E003', 'Hari', 'IT', 'Male', 60000, 1, 26, 'Software Engineer')\n",
            "('E007', 'Anita', 'HR', 'Female', 45000, 2, 27, 'HR Executive')\n",
            "('E008', 'Bikash', 'Sales', 'Male', 58000, 1, 25, 'Sales Executive')\n",
            "('E010', 'Sujan', 'IT', 'Male', 65000, 2, 28, 'Software Engineer')\n",
            "('E012', 'Mina', 'Sales', 'Female', 53000, 2, 27, 'Sales Executive')\n",
            "('E014', 'Laxmi', 'HR', 'Female', 46000, 1, 25, 'HR Executive')\n",
            "('E016', 'Sabina', 'Sales', 'Female', 59000, 2, 28, 'Sales Executive')\n",
            "('E018', 'Pooja', 'HR', 'Female', 47000, 2, 26, 'HR Executive')\n",
            "('E020', 'Sonal', 'Sales', 'Female', 56000, 1, 24, 'Sales Executive')\n",
            "('E022', 'Rina', 'Sales', 'Female', 54000, 2, 27, 'Sales Executive')\n",
            "('E026', 'Bina', 'Sales', 'Female', 57000, 1, 25, 'Sales Executive')\n",
            "('E027', 'Ramesh', 'Finance', 'Male', 50000, 2, 30, 'Accountant')\n",
            "('E028', 'Anita', 'HR', 'Female', 45000, 2, 26, 'HR Executive')\n",
            "('E031', 'Ram', 'Sales', 'Male', 56000, 2, 29, 'Sales Executive')\n",
            "('E032', 'Hari', 'IT', 'Male', 62000, 1, 27, 'Software Engineer')\n",
            "('E033', 'Pooja', 'HR', 'Female', 47000, 2, 26, 'HR Executive')\n",
            "('E035', 'Sabina', 'Sales', 'Female', 59000, 2, 28, 'Sales Executive')\n",
            "('E041', 'Rohit', 'IT', 'Male', 68000, 2, 30, 'Software Engineer')\n",
            "('E044', 'Rekha', 'HR', 'Female', 46000, 2, 28, 'HR Executive')\n",
            "('E046', 'Anju', 'Sales', 'Female', 58000, 1, 26, 'Sales Executive')\n",
            "('E048', 'Pooja', 'HR', 'Female', 47000, 2, 27, 'HR Executive')\n",
            "('E049', 'Sujan', 'IT', 'Male', 65000, 2, 28, 'Software Engineer')\n",
            "('E050', 'Bina', 'Sales', 'Female', 54000, 1, 25, 'Sales Executive')\n"
          ]
        }
      ]
    },
    {
      "cell_type": "code",
      "source": [
        "#Find employees in Sales department earning > 55,000.\n",
        "sql = \"SELECT * fROM Employees WHERE Department = 'Sales' AND salary > 55000\"\n",
        "cursor.execute(sql)\n",
        "\n",
        "for row in cursor.fetchall():\n",
        "  print(row)\n"
      ],
      "metadata": {
        "colab": {
          "base_uri": "https://localhost:8080/"
        },
        "id": "1_WaMVVI3KBI",
        "outputId": "81573b99-099b-46c7-ca75-3fba0216c6e4"
      },
      "execution_count": 9,
      "outputs": [
        {
          "output_type": "stream",
          "name": "stdout",
          "text": [
            "('E008', 'Bikash', 'Sales', 'Male', 58000, 1, 25, 'Sales Executive')\n",
            "('E016', 'Sabina', 'Sales', 'Female', 59000, 2, 28, 'Sales Executive')\n",
            "('E020', 'Sonal', 'Sales', 'Female', 56000, 1, 24, 'Sales Executive')\n",
            "('E026', 'Bina', 'Sales', 'Female', 57000, 1, 25, 'Sales Executive')\n",
            "('E031', 'Ram', 'Sales', 'Male', 56000, 2, 29, 'Sales Executive')\n",
            "('E035', 'Sabina', 'Sales', 'Female', 59000, 2, 28, 'Sales Executive')\n",
            "('E046', 'Anju', 'Sales', 'Female', 58000, 1, 26, 'Sales Executive')\n"
          ]
        }
      ]
    },
    {
      "cell_type": "code",
      "source": [
        "#Find employees in HR or Finance department.\n",
        "sql = \"SELECT * fROM Employees WHERE Department = 'HR' OR Department = 'Finance'\"\n",
        "cursor.execute(sql)\n",
        "\n",
        "for row in cursor.fetchall():\n",
        "  print(row)"
      ],
      "metadata": {
        "colab": {
          "base_uri": "https://localhost:8080/"
        },
        "id": "-KSoRjQc3cuj",
        "outputId": "5a39b541-7bf8-4d2a-b655-24a1552f7a9e"
      },
      "execution_count": 10,
      "outputs": [
        {
          "output_type": "stream",
          "name": "stdout",
          "text": [
            "('E002', 'Sita', 'HR', 'Female', 48000, 4, 32, 'HR Manager')\n",
            "('E005', 'Ramesh', 'Finance', 'Male', 47000, 5, 35, 'Accountant')\n",
            "('E007', 'Anita', 'HR', 'Female', 45000, 2, 27, 'HR Executive')\n",
            "('E009', 'Rekha', 'Finance', 'Female', 50000, 3, 30, 'Accountant')\n",
            "('E013', 'Dipak', 'Finance', 'Male', 48000, 4, 33, 'Accountant')\n",
            "('E014', 'Laxmi', 'HR', 'Female', 46000, 1, 25, 'HR Executive')\n",
            "('E017', 'Raj', 'Finance', 'Male', 51000, 3, 31, 'Accountant')\n",
            "('E018', 'Pooja', 'HR', 'Female', 47000, 2, 26, 'HR Executive')\n",
            "('E023', 'Kamal', 'Finance', 'Male', 49000, 4, 32, 'Accountant')\n",
            "('E024', 'Sita', 'HR', 'Female', 46000, 3, 28, 'HR Executive')\n",
            "('E027', 'Ramesh', 'Finance', 'Male', 50000, 2, 30, 'Accountant')\n",
            "('E028', 'Anita', 'HR', 'Female', 45000, 2, 26, 'HR Executive')\n",
            "('E033', 'Pooja', 'HR', 'Female', 47000, 2, 26, 'HR Executive')\n",
            "('E034', 'Dipak', 'Finance', 'Male', 48000, 3, 33, 'Accountant')\n",
            "('E037', 'Rekha', 'Finance', 'Female', 50000, 3, 31, 'Accountant')\n",
            "('E043', 'Sanjay', 'Finance', 'Male', 47000, 4, 33, 'Accountant')\n",
            "('E044', 'Rekha', 'HR', 'Female', 46000, 2, 28, 'HR Executive')\n",
            "('E047', 'Ramesh', 'Finance', 'Male', 50000, 3, 31, 'Accountant')\n",
            "('E048', 'Pooja', 'HR', 'Female', 47000, 2, 27, 'HR Executive')\n"
          ]
        }
      ]
    },
    {
      "cell_type": "code",
      "source": [
        "#Find average salary per department.\n",
        "sql = \"SELECT Department,AVG(salary) as average_salary FROM Employees GROUP BY Department\"\n",
        "df = pd.read_sql(sql, conn)\n",
        "# for row in cursor.fetchall():\n",
        "#   print(row)\n",
        "\n",
        "print(df)\n",
        "mylabels = df.Department\n",
        "plt.pie(df.average_salary,labels=mylabels,autopct='%.0f%%')\n",
        "plt.title(\"Average Salary Department wise\")\n",
        "plt.legend()\n",
        "plt.show()\n"
      ],
      "metadata": {
        "colab": {
          "base_uri": "https://localhost:8080/",
          "height": 515
        },
        "id": "-VB32AO2zkQd",
        "outputId": "aab4d51d-0162-451f-9356-d99053fffd0a"
      },
      "execution_count": 11,
      "outputs": [
        {
          "output_type": "stream",
          "name": "stdout",
          "text": [
            "  Department  average_salary\n",
            "0    Finance    49000.000000\n",
            "1         HR    46333.333333\n",
            "2         IT    66437.500000\n",
            "3      Sales    55400.000000\n"
          ]
        },
        {
          "output_type": "display_data",
          "data": {
            "text/plain": [
              "<Figure size 640x480 with 1 Axes>"
            ],
            "image/png": "[encoded data removed]"
          },
          "metadata": {}
        }
      ]
    },
    {
      "cell_type": "code",
      "source": [
        "#Count employees by department.\n",
        "#Find average salary per department.\n",
        "sql = \"SELECT Department,count(EmpID) as total_employee FROM Employees GROUP BY Department\"\n",
        "df = pd.read_sql(sql, conn)\n",
        "# for row in cursor.fetchall():\n",
        "#   print(row)\n",
        "print(df)\n",
        "mylabels = df.Department\n",
        "custom_colors = ['red','yellow','blue','green']\n",
        "plt.bar(df.Department,df.total_employee,label=mylabels,color = custom_colors)\n",
        "plt.xlabel('Departments')\n",
        "plt.ylabel('Total Numbers')\n",
        "plt.title(\"Total Employees in each Department\")\n",
        "plt.legend()\n",
        "plt.show()\n"
      ],
      "metadata": {
        "colab": {
          "base_uri": "https://localhost:8080/",
          "height": 559
        },
        "id": "tgacl8PM27yC",
        "outputId": "175d467e-499f-4c09-847e-fe319e5ebab4"
      },
      "execution_count": 12,
      "outputs": [
        {
          "output_type": "stream",
          "name": "stdout",
          "text": [
            "  Department  total_employee\n",
            "0    Finance              10\n",
            "1         HR               9\n",
            "2         IT              16\n",
            "3      Sales              15\n"
          ]
        },
        {
          "output_type": "display_data",
          "data": {
            "text/plain": [
              "<Figure size 640x480 with 1 Axes>"
            ],
            "image/png": "[encoded data removed]"
          },
          "metadata": {}
        }
      ]
    },
    {
      "cell_type": "code",
      "source": [
        "#Count employees by gender\n",
        "sql = \"SELECT Gender , count(EmpID) as total FROM Employees GROUP BY Gender\"\n",
        "df = pd.read_sql(sql, conn)\n",
        "print(df)\n",
        "\n",
        "mylabels = df.Gender\n",
        "custom_colors = ['blue','green']\n",
        "plt.bar(df.Gender,df.total,label=mylabels,color = custom_colors,width=0.4)\n",
        "plt.xlabel('Gender')\n",
        "plt.ylabel('Total Numbers')\n",
        "plt.title(\"Total Female and Male\")\n",
        "plt.legend()\n",
        "plt.show()\n"
      ],
      "metadata": {
        "colab": {
          "base_uri": "https://localhost:8080/",
          "height": 524
        },
        "id": "YZWKyxZr6_wm",
        "outputId": "60c69762-d75e-4279-f799-7e13935c8140"
      },
      "execution_count": 13,
      "outputs": [
        {
          "output_type": "stream",
          "name": "stdout",
          "text": [
            "   Gender  total\n",
            "0  Female     23\n",
            "1    Male     27\n"
          ]
        },
        {
          "output_type": "display_data",
          "data": {
            "text/plain": [
              "<Figure size 640x480 with 1 Axes>"
            ],
            "image/png": "[encoded data removed]"
          },
          "metadata": {}
        }
      ]
    },
    {
      "cell_type": "code",
      "source": [
        "#Find department with the highest average salary.\n",
        "sql = \"SELECT Department,AVG(salary) as avg_salary from Employees GROUP By Department ORDER BY avg_salary DESC LIMIT 1\"\n",
        "df = pd.read_sql(sql, conn)\n",
        "print(df)\n"
      ],
      "metadata": {
        "colab": {
          "base_uri": "https://localhost:8080/"
        },
        "id": "mYO-vHXA8XNm",
        "outputId": "917465d6-315c-47d9-e8fe-56a7933025d1"
      },
      "execution_count": 14,
      "outputs": [
        {
          "output_type": "stream",
          "name": "stdout",
          "text": [
            "  Department  avg_salary\n",
            "0         IT     66437.5\n"
          ]
        }
      ]
    },
    {
      "cell_type": "code",
      "source": [
        "#Show top 5 highest-paid employees. Show employees ordered by department then salary descending.\n",
        "sql = \"SELECT DISTINCT  Name,salary from Employees ORDER BY salary DESC LIMIT 5\"\n",
        "df = pd.read_sql(sql, conn)\n",
        "\n",
        "\n",
        "mylabels = df.Name\n",
        "custom_colors = ['red','yellow','blue','green','pink']\n",
        "plt.bar(df[\"Name\"],df[\"Salary\"],label=mylabels,color = custom_colors,width=0.4,)\n",
        "plt.xlabel('Name of Employee')\n",
        "plt.ylabel('Amount of Salary')\n",
        "plt.title(\"Top 5 highest paid employee\")\n",
        "plt.legend()\n",
        "plt.show()\n"
      ],
      "metadata": {
        "colab": {
          "base_uri": "https://localhost:8080/",
          "height": 472
        },
        "id": "cv_UqR9D-ybh",
        "outputId": "05ef845f-9022-4732-834e-7899ff95a7bd"
      },
      "execution_count": 15,
      "outputs": [
        {
          "output_type": "display_data",
          "data": {
            "text/plain": [
              "<Figure size 640x480 with 1 Axes>"
            ],
            "image/png": "[encoded data removed]"
          },
          "metadata": {}
        }
      ]
    },
    {
      "cell_type": "code",
      "source": [
        "#Show employees ordered by department then salary descending.\n",
        "sql = \"SELECT * from Employees ORDER BY department,salary desc\"\n",
        "df = pd.read_sql(sql, conn)\n",
        "print(df)"
      ],
      "metadata": {
        "colab": {
          "base_uri": "https://localhost:8080/"
        },
        "id": "0wov5KmjBQ--",
        "outputId": "199bf3c8-33d4-4cdd-f6e1-cd54044ea2d0"
      },
      "execution_count": 16,
      "outputs": [
        {
          "output_type": "stream",
          "name": "stdout",
          "text": [
            "   EmpID     Name Department  Gender  Salary  YearsAtCompany  Age  \\\n",
            "0   E017      Raj    Finance    Male   51000               3   31   \n",
            "1   E009    Rekha    Finance  Female   50000               3   30   \n",
            "2   E027   Ramesh    Finance    Male   50000               2   30   \n",
            "3   E037    Rekha    Finance  Female   50000               3   31   \n",
            "4   E047   Ramesh    Finance    Male   50000               3   31   \n",
            "5   E023    Kamal    Finance    Male   49000               4   32   \n",
            "6   E013    Dipak    Finance    Male   48000               4   33   \n",
            "7   E034    Dipak    Finance    Male   48000               3   33   \n",
            "8   E005   Ramesh    Finance    Male   47000               5   35   \n",
            "9   E043   Sanjay    Finance    Male   47000               4   33   \n",
            "10  E002     Sita         HR  Female   48000               4   32   \n",
            "11  E018    Pooja         HR  Female   47000               2   26   \n",
            "12  E033    Pooja         HR  Female   47000               2   26   \n",
            "13  E048    Pooja         HR  Female   47000               2   27   \n",
            "14  E014    Laxmi         HR  Female   46000               1   25   \n",
            "15  E024     Sita         HR  Female   46000               3   28   \n",
            "16  E044    Rekha         HR  Female   46000               2   28   \n",
            "17  E007    Anita         HR  Female   45000               2   27   \n",
            "18  E028    Anita         HR  Female   45000               2   26   \n",
            "19  E006    Suman         IT    Male   75000               6   38   \n",
            "20  E039    Suman         IT    Male   75000               6   38   \n",
            "21  E015  Prakash         IT    Male   72000               5   36   \n",
            "22  E045   Dipesh         IT    Male   72000               5   36   \n",
            "23  E025    Nabin         IT    Male   71000               5   35   \n",
            "24  E041    Rohit         IT    Male   68000               2   30   \n",
            "25  E010    Sujan         IT    Male   65000               2   28   \n",
            "26  E029    Sujan         IT    Male   65000               4   31   \n",
            "27  E049    Sujan         IT    Male   65000               2   28   \n",
            "28  E019     Anil         IT    Male   64000               4   30   \n",
            "29  E036     Anil         IT    Male   64000               4   30   \n",
            "30  E021    Manoj         IT    Male   63000               3   29   \n",
            "31  E032     Hari         IT    Male   62000               1   27   \n",
            "32  E011    Kiran         IT    Male   61000               3   29   \n",
            "33  E040    Kiran         IT    Male   61000               3   29   \n",
            "34  E003     Hari         IT    Male   60000               1   26   \n",
            "35  E016   Sabina      Sales  Female   59000               2   28   \n",
            "36  E035   Sabina      Sales  Female   59000               2   28   \n",
            "37  E008   Bikash      Sales    Male   58000               1   25   \n",
            "38  E046     Anju      Sales  Female   58000               1   26   \n",
            "39  E026     Bina      Sales  Female   57000               1   25   \n",
            "40  E020    Sonal      Sales  Female   56000               1   24   \n",
            "41  E031      Ram      Sales    Male   56000               2   29   \n",
            "42  E001      Ram      Sales    Male   55000               2   28   \n",
            "43  E042     Maya      Sales  Female   55000               3   27   \n",
            "44  E022     Rina      Sales  Female   54000               2   27   \n",
            "45  E050     Bina      Sales  Female   54000               1   25   \n",
            "46  E012     Mina      Sales  Female   53000               2   27   \n",
            "47  E030     Mina      Sales  Female   53000               3   28   \n",
            "48  E004     Gita      Sales  Female   52000               3   29   \n",
            "49  E038     Gita      Sales  Female   52000               3   29   \n",
            "\n",
            "              JobRole  \n",
            "0          Accountant  \n",
            "1          Accountant  \n",
            "2          Accountant  \n",
            "3          Accountant  \n",
            "4          Accountant  \n",
            "5          Accountant  \n",
            "6          Accountant  \n",
            "7          Accountant  \n",
            "8          Accountant  \n",
            "9          Accountant  \n",
            "10         HR Manager  \n",
            "11       HR Executive  \n",
            "12       HR Executive  \n",
            "13       HR Executive  \n",
            "14       HR Executive  \n",
            "15       HR Executive  \n",
            "16       HR Executive  \n",
            "17       HR Executive  \n",
            "18       HR Executive  \n",
            "19   Senior Developer  \n",
            "20   Senior Developer  \n",
            "21   Senior Developer  \n",
            "22   Senior Developer  \n",
            "23   Senior Developer  \n",
            "24  Software Engineer  \n",
            "25  Software Engineer  \n",
            "26  Software Engineer  \n",
            "27  Software Engineer  \n",
            "28  Software Engineer  \n",
            "29  Software Engineer  \n",
            "30  Software Engineer  \n",
            "31  Software Engineer  \n",
            "32  Software Engineer  \n",
            "33  Software Engineer  \n",
            "34  Software Engineer  \n",
            "35    Sales Executive  \n",
            "36    Sales Executive  \n",
            "37    Sales Executive  \n",
            "38    Sales Executive  \n",
            "39    Sales Executive  \n",
            "40    Sales Executive  \n",
            "41    Sales Executive  \n",
            "42    Sales Executive  \n",
            "43    Sales Executive  \n",
            "44    Sales Executive  \n",
            "45    Sales Executive  \n",
            "46    Sales Executive  \n",
            "47    Sales Executive  \n",
            "48    Sales Executive  \n",
            "49    Sales Executive  \n"
          ]
        }
      ]
    },
    {
      "cell_type": "code",
      "source": [
        "#List employees with their department name.\n",
        "sql = \"SELECT Name,Department from Employees\"\n",
        "df = pd.read_sql(sql, conn)\n",
        "print(df)\n"
      ],
      "metadata": {
        "colab": {
          "base_uri": "https://localhost:8080/"
        },
        "id": "rEx6NpVNGIhc",
        "outputId": "f644efbe-7bd2-40c2-c6c7-bf0482603733"
      },
      "execution_count": 17,
      "outputs": [
        {
          "output_type": "stream",
          "name": "stdout",
          "text": [
            "       Name Department\n",
            "0       Ram      Sales\n",
            "1      Sita         HR\n",
            "2      Hari         IT\n",
            "3      Gita      Sales\n",
            "4    Ramesh    Finance\n",
            "5     Suman         IT\n",
            "6     Anita         HR\n",
            "7    Bikash      Sales\n",
            "8     Rekha    Finance\n",
            "9     Sujan         IT\n",
            "10    Kiran         IT\n",
            "11     Mina      Sales\n",
            "12    Dipak    Finance\n",
            "13    Laxmi         HR\n",
            "14  Prakash         IT\n",
            "15   Sabina      Sales\n",
            "16      Raj    Finance\n",
            "17    Pooja         HR\n",
            "18     Anil         IT\n",
            "19    Sonal      Sales\n",
            "20    Manoj         IT\n",
            "21     Rina      Sales\n",
            "22    Kamal    Finance\n",
            "23     Sita         HR\n",
            "24    Nabin         IT\n",
            "25     Bina      Sales\n",
            "26   Ramesh    Finance\n",
            "27    Anita         HR\n",
            "28    Sujan         IT\n",
            "29     Mina      Sales\n",
            "30      Ram      Sales\n",
            "31     Hari         IT\n",
            "32    Pooja         HR\n",
            "33    Dipak    Finance\n",
            "34   Sabina      Sales\n",
            "35     Anil         IT\n",
            "36    Rekha    Finance\n",
            "37     Gita      Sales\n",
            "38    Suman         IT\n",
            "39    Kiran         IT\n",
            "40    Rohit         IT\n",
            "41     Maya      Sales\n",
            "42   Sanjay    Finance\n",
            "43    Rekha         HR\n",
            "44   Dipesh         IT\n",
            "45     Anju      Sales\n",
            "46   Ramesh    Finance\n",
            "47    Pooja         HR\n",
            "48    Sujan         IT\n",
            "49     Bina      Sales\n"
          ]
        }
      ]
    },
    {
      "cell_type": "code",
      "source": [
        "#Find employees in “IT” department earning more than 50k.\n"
      ],
      "metadata": {
        "id": "LjmDIxw3G1ES"
      },
      "execution_count": null,
      "outputs": []
    }
  ]
}