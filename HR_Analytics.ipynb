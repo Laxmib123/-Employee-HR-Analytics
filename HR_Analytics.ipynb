{
  "nbformat": 4,
  "nbformat_minor": 0,
  "metadata": {
    "colab": {
      "provenance": [],
      "authorship_tag": "ABX9TyOq2zyIQDMlBCWV247MQRir",
      "include_colab_link": true
    },
    "kernelspec": {
      "name": "python3",
      "display_name": "Python 3"
    },
    "language_info": {
      "name": "python"
    }
  },
  "cells": [
    {
      "cell_type": "markdown",
      "metadata": {
        "id": "view-in-github",
        "colab_type": "text"
      },
      "source": [
        "<a href=\"https://colab.research.google.com/github/Laxmib123/-Employee-HR-Analytics/blob/main/HR_Analytics.ipynb\" target=\"_parent\"><img src=\"https://colab.research.google.com/assets/colab-badge.svg\" alt=\"Open In Colab\"/></a>"
      ]
    },
    {
      "cell_type": "code",
      "execution_count": 213,
      "metadata": {
        "id": "7VizNSFKeXAG"
      },
      "outputs": [],
      "source": [
        "import pandas as pd\n",
        "from matplotlib import pyplot as plt\n",
        "import seaborn as sns\n",
        "import numpy as np\n",
        "\n",
        "import os\n",
        "os.makedirs(\"charts\", exist_ok=True)"
      ]
    },
    {
      "cell_type": "code",
      "source": [
        "import sqlite3\n",
        "\n",
        "# Create in-memory database\n",
        "conn = sqlite3.connect(':memory:')\n",
        "cursor = conn.cursor()"
      ],
      "metadata": {
        "id": "AZuH7K-i0dOm"
      },
      "execution_count": 214,
      "outputs": []
    },
    {
      "cell_type": "code",
      "source": [
        "\n",
        "\n",
        "# Create table\n",
        "cursor.execute('''\n",
        "CREATE TABLE Employees (\n",
        "    EmpID TEXT PRIMARY KEY,\n",
        "    Name TEXT,\n",
        "    Department TEXT,\n",
        "    Gender TEXT,\n",
        "    Salary INTEGER,\n",
        "    YearsAtCompany INTEGER,\n",
        "    Age INTEGER,\n",
        "    JobRole TEXT\n",
        ")\n",
        "''')\n",
        "\n",
        "# List of all employees as tuples\n",
        "employees_data = [\n",
        "    ('E001', 'Ram', 'Sales', 'Male', 55000, 2, 28, 'Sales Executive'),\n",
        "    ('E002', 'Sita', 'HR', 'Female', 48000, 4, 32, 'HR Manager'),\n",
        "    ('E003', 'Hari', 'IT', 'Male', 60000, 1, 26, 'Software Engineer'),\n",
        "    ('E004', 'Gita', 'Sales', 'Female', 52000, 3, 29, 'Sales Executive'),\n",
        "    ('E005', 'Ramesh', 'Finance', 'Male', 47000, 5, 35, 'Accountant'),\n",
        "    ('E006', 'Suman', 'IT', 'Male', 75000, 6, 38, 'Senior Developer'),\n",
        "    ('E007', 'Anita', 'HR', 'Female', 45000, 2, 27, 'HR Executive'),\n",
        "    ('E008', 'Bikash', 'Sales', 'Male', 58000, 1, 25, 'Sales Executive'),\n",
        "    ('E009', 'Rekha', 'Finance', 'Female', 50000, 3, 30, 'Accountant'),\n",
        "    ('E010', 'Sujan', 'IT', 'Male', 65000, 2, 28, 'Software Engineer'),\n",
        "    ('E011', 'Kiran', 'IT', 'Male', 61000, 3, 29, 'Software Engineer'),\n",
        "    ('E012', 'Mina', 'Sales', 'Female', 53000, 2, 27, 'Sales Executive'),\n",
        "    ('E013', 'Dipak', 'Finance', 'Male', 48000, 4, 33, 'Accountant'),\n",
        "    ('E014', 'Laxmi', 'HR', 'Female', 46000, 1, 25, 'HR Executive'),\n",
        "    ('E015', 'Prakash', 'IT', 'Male', 72000, 5, 36, 'Senior Developer'),\n",
        "    ('E016', 'Sabina', 'Sales', 'Female', 59000, 2, 28, 'Sales Executive'),\n",
        "    ('E017', 'Raj', 'Finance', 'Male', 51000, 3, 31, 'Accountant'),\n",
        "    ('E018', 'Pooja', 'HR', 'Female', 47000, 2, 26, 'HR Executive'),\n",
        "    ('E019', 'Anil', 'IT', 'Male', 64000, 4, 30, 'Software Engineer'),\n",
        "    ('E020', 'Sonal', 'Sales', 'Female', 56000, 1, 24, 'Sales Executive'),\n",
        "    ('E021', 'Manoj', 'IT', 'Male', 63000, 3, 29, 'Software Engineer'),\n",
        "    ('E022', 'Rina', 'Sales', 'Female', 54000, 2, 27, 'Sales Executive'),\n",
        "    ('E023', 'Kamal', 'Finance', 'Male', 49000, 4, 32, 'Accountant'),\n",
        "    ('E024', 'Sita', 'HR', 'Female', 46000, 3, 28, 'HR Executive'),\n",
        "    ('E025', 'Nabin', 'IT', 'Male', 71000, 5, 35, 'Senior Developer'),\n",
        "    ('E026', 'Bina', 'Sales', 'Female', 57000, 1, 25, 'Sales Executive'),\n",
        "    ('E027', 'Ramesh', 'Finance', 'Male', 50000, 2, 30, 'Accountant'),\n",
        "    ('E028', 'Anita', 'HR', 'Female', 45000, 2, 26, 'HR Executive'),\n",
        "    ('E029', 'Sujan', 'IT', 'Male', 65000, 4, 31, 'Software Engineer'),\n",
        "    ('E030', 'Mina', 'Sales', 'Female', 53000, 3, 28, 'Sales Executive'),\n",
        "    ('E031', 'Ram', 'Sales', 'Male', 56000, 2, 29, 'Sales Executive'),\n",
        "    ('E032', 'Hari', 'IT', 'Male', 62000, 1, 27, 'Software Engineer'),\n",
        "    ('E033', 'Pooja', 'HR', 'Female', 47000, 2, 26, 'HR Executive'),\n",
        "    ('E034', 'Dipak', 'Finance', 'Male', 48000, 3, 33, 'Accountant'),\n",
        "    ('E035', 'Sabina', 'Sales', 'Female', 59000, 2, 28, 'Sales Executive'),\n",
        "    ('E036', 'Anil', 'IT', 'Male', 64000, 4, 30, 'Software Engineer'),\n",
        "    ('E037', 'Rekha', 'Finance', 'Female', 50000, 3, 31, 'Accountant'),\n",
        "    ('E038', 'Gita', 'Sales', 'Female', 52000, 3, 29, 'Sales Executive'),\n",
        "    ('E039', 'Suman', 'IT', 'Male', 75000, 6, 38, 'Senior Developer'),\n",
        "    ('E040', 'Kiran', 'IT', 'Male', 61000, 3, 29, 'Software Engineer'),\n",
        "    ('E041', 'Rohit', 'IT', 'Male', 68000, 2, 30, 'Software Engineer'),\n",
        "    ('E042', 'Maya', 'Sales', 'Female', 55000, 3, 27, 'Sales Executive'),\n",
        "    ('E043', 'Sanjay', 'Finance', 'Male', 47000, 4, 33, 'Accountant'),\n",
        "    ('E044', 'Rekha', 'HR', 'Female', 46000, 2, 28, 'HR Executive'),\n",
        "    ('E045', 'Dipesh', 'IT', 'Male', 72000, 5, 36, 'Senior Developer'),\n",
        "    ('E046', 'Anju', 'Sales', 'Female', 58000, 1, 26, 'Sales Executive'),\n",
        "    ('E047', 'Ramesh', 'Finance', 'Male', 50000, 3, 31, 'Accountant'),\n",
        "    ('E048', 'Pooja', 'HR', 'Female', 47000, 2, 27, 'HR Executive'),\n",
        "    ('E049', 'Sujan', 'IT', 'Male', 65000, 2, 28, 'Software Engineer'),\n",
        "    ('E050', 'Bina', 'Sales', 'Female', 54000, 1, 25, 'Sales Executive')\n",
        "]\n",
        "\n",
        "cursor.executemany('''\n",
        "INSERT INTO Employees (EmpID, Name, Department, Gender, Salary, YearsAtCompany, Age, JobRole)\n",
        "VALUES (?, ?, ?, ?, ?, ?, ?, ?)\n",
        "''', employees_data)\n"
      ],
      "metadata": {
        "colab": {
          "base_uri": "https://localhost:8080/"
        },
        "id": "nt85vIKLRTQo",
        "outputId": "570bef86-cd84-4b35-af04-1c9be073fd09"
      },
      "execution_count": 215,
      "outputs": [
        {
          "output_type": "execute_result",
          "data": {
            "text/plain": [
              "<sqlite3.Cursor at 0x7b73d8ec97c0>"
            ]
          },
          "metadata": {},
          "execution_count": 215
        }
      ]
    },
    {
      "cell_type": "code",
      "source": [
        "\n",
        "#Show all employee\n",
        "sql = \"SELECT * FROM Employees\"\n",
        "cursor.execute(sql)\n",
        "for row in cursor.fetchall():\n",
        "    print(row)\n",
        "# for i in cursor.fetchall():\n",
        "#   print(i)"
      ],
      "metadata": {
        "colab": {
          "base_uri": "https://localhost:8080/"
        },
        "id": "CCCgKvUnzjXC",
        "outputId": "2f6db5d2-c5d8-41d1-ba35-14fdf034fbae"
      },
      "execution_count": 216,
      "outputs": [
        {
          "output_type": "stream",
          "name": "stdout",
          "text": [
            "('E001', 'Ram', 'Sales', 'Male', 55000, 2, 28, 'Sales Executive')\n",
            "('E002', 'Sita', 'HR', 'Female', 48000, 4, 32, 'HR Manager')\n",
            "('E003', 'Hari', 'IT', 'Male', 60000, 1, 26, 'Software Engineer')\n",
            "('E004', 'Gita', 'Sales', 'Female', 52000, 3, 29, 'Sales Executive')\n",
            "('E005', 'Ramesh', 'Finance', 'Male', 47000, 5, 35, 'Accountant')\n",
            "('E006', 'Suman', 'IT', 'Male', 75000, 6, 38, 'Senior Developer')\n",
            "('E007', 'Anita', 'HR', 'Female', 45000, 2, 27, 'HR Executive')\n",
            "('E008', 'Bikash', 'Sales', 'Male', 58000, 1, 25, 'Sales Executive')\n",
            "('E009', 'Rekha', 'Finance', 'Female', 50000, 3, 30, 'Accountant')\n",
            "('E010', 'Sujan', 'IT', 'Male', 65000, 2, 28, 'Software Engineer')\n",
            "('E011', 'Kiran', 'IT', 'Male', 61000, 3, 29, 'Software Engineer')\n",
            "('E012', 'Mina', 'Sales', 'Female', 53000, 2, 27, 'Sales Executive')\n",
            "('E013', 'Dipak', 'Finance', 'Male', 48000, 4, 33, 'Accountant')\n",
            "('E014', 'Laxmi', 'HR', 'Female', 46000, 1, 25, 'HR Executive')\n",
            "('E015', 'Prakash', 'IT', 'Male', 72000, 5, 36, 'Senior Developer')\n",
            "('E016', 'Sabina', 'Sales', 'Female', 59000, 2, 28, 'Sales Executive')\n",
            "('E017', 'Raj', 'Finance', 'Male', 51000, 3, 31, 'Accountant')\n",
            "('E018', 'Pooja', 'HR', 'Female', 47000, 2, 26, 'HR Executive')\n",
            "('E019', 'Anil', 'IT', 'Male', 64000, 4, 30, 'Software Engineer')\n",
            "('E020', 'Sonal', 'Sales', 'Female', 56000, 1, 24, 'Sales Executive')\n",
            "('E021', 'Manoj', 'IT', 'Male', 63000, 3, 29, 'Software Engineer')\n",
            "('E022', 'Rina', 'Sales', 'Female', 54000, 2, 27, 'Sales Executive')\n",
            "('E023', 'Kamal', 'Finance', 'Male', 49000, 4, 32, 'Accountant')\n",
            "('E024', 'Sita', 'HR', 'Female', 46000, 3, 28, 'HR Executive')\n",
            "('E025', 'Nabin', 'IT', 'Male', 71000, 5, 35, 'Senior Developer')\n",
            "('E026', 'Bina', 'Sales', 'Female', 57000, 1, 25, 'Sales Executive')\n",
            "('E027', 'Ramesh', 'Finance', 'Male', 50000, 2, 30, 'Accountant')\n",
            "('E028', 'Anita', 'HR', 'Female', 45000, 2, 26, 'HR Executive')\n",
            "('E029', 'Sujan', 'IT', 'Male', 65000, 4, 31, 'Software Engineer')\n",
            "('E030', 'Mina', 'Sales', 'Female', 53000, 3, 28, 'Sales Executive')\n",
            "('E031', 'Ram', 'Sales', 'Male', 56000, 2, 29, 'Sales Executive')\n",
            "('E032', 'Hari', 'IT', 'Male', 62000, 1, 27, 'Software Engineer')\n",
            "('E033', 'Pooja', 'HR', 'Female', 47000, 2, 26, 'HR Executive')\n",
            "('E034', 'Dipak', 'Finance', 'Male', 48000, 3, 33, 'Accountant')\n",
            "('E035', 'Sabina', 'Sales', 'Female', 59000, 2, 28, 'Sales Executive')\n",
            "('E036', 'Anil', 'IT', 'Male', 64000, 4, 30, 'Software Engineer')\n",
            "('E037', 'Rekha', 'Finance', 'Female', 50000, 3, 31, 'Accountant')\n",
            "('E038', 'Gita', 'Sales', 'Female', 52000, 3, 29, 'Sales Executive')\n",
            "('E039', 'Suman', 'IT', 'Male', 75000, 6, 38, 'Senior Developer')\n",
            "('E040', 'Kiran', 'IT', 'Male', 61000, 3, 29, 'Software Engineer')\n",
            "('E041', 'Rohit', 'IT', 'Male', 68000, 2, 30, 'Software Engineer')\n",
            "('E042', 'Maya', 'Sales', 'Female', 55000, 3, 27, 'Sales Executive')\n",
            "('E043', 'Sanjay', 'Finance', 'Male', 47000, 4, 33, 'Accountant')\n",
            "('E044', 'Rekha', 'HR', 'Female', 46000, 2, 28, 'HR Executive')\n",
            "('E045', 'Dipesh', 'IT', 'Male', 72000, 5, 36, 'Senior Developer')\n",
            "('E046', 'Anju', 'Sales', 'Female', 58000, 1, 26, 'Sales Executive')\n",
            "('E047', 'Ramesh', 'Finance', 'Male', 50000, 3, 31, 'Accountant')\n",
            "('E048', 'Pooja', 'HR', 'Female', 47000, 2, 27, 'HR Executive')\n",
            "('E049', 'Sujan', 'IT', 'Male', 65000, 2, 28, 'Software Engineer')\n",
            "('E050', 'Bina', 'Sales', 'Female', 54000, 1, 25, 'Sales Executive')\n"
          ]
        }
      ]
    },
    {
      "cell_type": "code",
      "source": [
        "#Show employees from IT department only.\n",
        "\n",
        "sql = \"SELECT * FROM Employees WHERE Department = 'IT'\"\n",
        "cursor.execute(sql)\n",
        "\n",
        "for row in cursor.fetchall():\n",
        "  print(row)\n",
        "\n",
        "\n",
        "\n"
      ],
      "metadata": {
        "id": "hceFk2gCPFS3",
        "colab": {
          "base_uri": "https://localhost:8080/"
        },
        "outputId": "bda835a2-a7a7-41d2-fba6-8d1780362560"
      },
      "execution_count": 217,
      "outputs": [
        {
          "output_type": "stream",
          "name": "stdout",
          "text": [
            "('E003', 'Hari', 'IT', 'Male', 60000, 1, 26, 'Software Engineer')\n",
            "('E006', 'Suman', 'IT', 'Male', 75000, 6, 38, 'Senior Developer')\n",
            "('E010', 'Sujan', 'IT', 'Male', 65000, 2, 28, 'Software Engineer')\n",
            "('E011', 'Kiran', 'IT', 'Male', 61000, 3, 29, 'Software Engineer')\n",
            "('E015', 'Prakash', 'IT', 'Male', 72000, 5, 36, 'Senior Developer')\n",
            "('E019', 'Anil', 'IT', 'Male', 64000, 4, 30, 'Software Engineer')\n",
            "('E021', 'Manoj', 'IT', 'Male', 63000, 3, 29, 'Software Engineer')\n",
            "('E025', 'Nabin', 'IT', 'Male', 71000, 5, 35, 'Senior Developer')\n",
            "('E029', 'Sujan', 'IT', 'Male', 65000, 4, 31, 'Software Engineer')\n",
            "('E032', 'Hari', 'IT', 'Male', 62000, 1, 27, 'Software Engineer')\n",
            "('E036', 'Anil', 'IT', 'Male', 64000, 4, 30, 'Software Engineer')\n",
            "('E039', 'Suman', 'IT', 'Male', 75000, 6, 38, 'Senior Developer')\n",
            "('E040', 'Kiran', 'IT', 'Male', 61000, 3, 29, 'Software Engineer')\n",
            "('E041', 'Rohit', 'IT', 'Male', 68000, 2, 30, 'Software Engineer')\n",
            "('E045', 'Dipesh', 'IT', 'Male', 72000, 5, 36, 'Senior Developer')\n",
            "('E049', 'Sujan', 'IT', 'Male', 65000, 2, 28, 'Software Engineer')\n"
          ]
        }
      ]
    },
    {
      "cell_type": "code",
      "source": [
        "#Show employees whose salary > 60,000.\n",
        "\n",
        "sql = \"SELECT * FROM Employees WHERE salary > 60000\"\n",
        "cursor.execute(sql)\n",
        "\n",
        "for row in cursor.fetchall():\n",
        "  print(row)\n"
      ],
      "metadata": {
        "colab": {
          "base_uri": "https://localhost:8080/"
        },
        "id": "8RMetRXy15qS",
        "outputId": "3d80449f-ae22-4e20-dc46-dc7e43a8d5dc"
      },
      "execution_count": 218,
      "outputs": [
        {
          "output_type": "stream",
          "name": "stdout",
          "text": [
            "('E006', 'Suman', 'IT', 'Male', 75000, 6, 38, 'Senior Developer')\n",
            "('E010', 'Sujan', 'IT', 'Male', 65000, 2, 28, 'Software Engineer')\n",
            "('E011', 'Kiran', 'IT', 'Male', 61000, 3, 29, 'Software Engineer')\n",
            "('E015', 'Prakash', 'IT', 'Male', 72000, 5, 36, 'Senior Developer')\n",
            "('E019', 'Anil', 'IT', 'Male', 64000, 4, 30, 'Software Engineer')\n",
            "('E021', 'Manoj', 'IT', 'Male', 63000, 3, 29, 'Software Engineer')\n",
            "('E025', 'Nabin', 'IT', 'Male', 71000, 5, 35, 'Senior Developer')\n",
            "('E029', 'Sujan', 'IT', 'Male', 65000, 4, 31, 'Software Engineer')\n",
            "('E032', 'Hari', 'IT', 'Male', 62000, 1, 27, 'Software Engineer')\n",
            "('E036', 'Anil', 'IT', 'Male', 64000, 4, 30, 'Software Engineer')\n",
            "('E039', 'Suman', 'IT', 'Male', 75000, 6, 38, 'Senior Developer')\n",
            "('E040', 'Kiran', 'IT', 'Male', 61000, 3, 29, 'Software Engineer')\n",
            "('E041', 'Rohit', 'IT', 'Male', 68000, 2, 30, 'Software Engineer')\n",
            "('E045', 'Dipesh', 'IT', 'Male', 72000, 5, 36, 'Senior Developer')\n",
            "('E049', 'Sujan', 'IT', 'Male', 65000, 2, 28, 'Software Engineer')\n"
          ]
        }
      ]
    },
    {
      "cell_type": "code",
      "source": [
        "#Show employees whose name starts with “R”.\n",
        "sql = \"SELECT * fROM Employees WHERE name LIKE 'R%'\"\n",
        "cursor.execute(sql)\n",
        "\n",
        "for row in cursor.fetchall():\n",
        "  print(row)\n"
      ],
      "metadata": {
        "colab": {
          "base_uri": "https://localhost:8080/"
        },
        "id": "OaQHmy8e2SYl",
        "outputId": "bbc97a18-ffa9-405b-ce54-abf29b0cb6f7"
      },
      "execution_count": 219,
      "outputs": [
        {
          "output_type": "stream",
          "name": "stdout",
          "text": [
            "('E001', 'Ram', 'Sales', 'Male', 55000, 2, 28, 'Sales Executive')\n",
            "('E005', 'Ramesh', 'Finance', 'Male', 47000, 5, 35, 'Accountant')\n",
            "('E009', 'Rekha', 'Finance', 'Female', 50000, 3, 30, 'Accountant')\n",
            "('E017', 'Raj', 'Finance', 'Male', 51000, 3, 31, 'Accountant')\n",
            "('E022', 'Rina', 'Sales', 'Female', 54000, 2, 27, 'Sales Executive')\n",
            "('E027', 'Ramesh', 'Finance', 'Male', 50000, 2, 30, 'Accountant')\n",
            "('E031', 'Ram', 'Sales', 'Male', 56000, 2, 29, 'Sales Executive')\n",
            "('E037', 'Rekha', 'Finance', 'Female', 50000, 3, 31, 'Accountant')\n",
            "('E041', 'Rohit', 'IT', 'Male', 68000, 2, 30, 'Software Engineer')\n",
            "('E044', 'Rekha', 'HR', 'Female', 46000, 2, 28, 'HR Executive')\n",
            "('E047', 'Ramesh', 'Finance', 'Male', 50000, 3, 31, 'Accountant')\n"
          ]
        }
      ]
    },
    {
      "cell_type": "code",
      "source": [
        "#Find employees who joined ≤ 2 years ago.\n",
        "sql = \"SELECT * fROM Employees WHERE YearsAtCompany <= 2\"\n",
        "cursor.execute(sql)\n",
        "\n",
        "for row in cursor.fetchall():\n",
        "  print(row)\n"
      ],
      "metadata": {
        "colab": {
          "base_uri": "https://localhost:8080/"
        },
        "id": "PNWipFCk23J2",
        "outputId": "60610a96-e6a7-4bb8-abf0-3247c7c389ef"
      },
      "execution_count": 220,
      "outputs": [
        {
          "output_type": "stream",
          "name": "stdout",
          "text": [
            "('E001', 'Ram', 'Sales', 'Male', 55000, 2, 28, 'Sales Executive')\n",
            "('E003', 'Hari', 'IT', 'Male', 60000, 1, 26, 'Software Engineer')\n",
            "('E007', 'Anita', 'HR', 'Female', 45000, 2, 27, 'HR Executive')\n",
            "('E008', 'Bikash', 'Sales', 'Male', 58000, 1, 25, 'Sales Executive')\n",
            "('E010', 'Sujan', 'IT', 'Male', 65000, 2, 28, 'Software Engineer')\n",
            "('E012', 'Mina', 'Sales', 'Female', 53000, 2, 27, 'Sales Executive')\n",
            "('E014', 'Laxmi', 'HR', 'Female', 46000, 1, 25, 'HR Executive')\n",
            "('E016', 'Sabina', 'Sales', 'Female', 59000, 2, 28, 'Sales Executive')\n",
            "('E018', 'Pooja', 'HR', 'Female', 47000, 2, 26, 'HR Executive')\n",
            "('E020', 'Sonal', 'Sales', 'Female', 56000, 1, 24, 'Sales Executive')\n",
            "('E022', 'Rina', 'Sales', 'Female', 54000, 2, 27, 'Sales Executive')\n",
            "('E026', 'Bina', 'Sales', 'Female', 57000, 1, 25, 'Sales Executive')\n",
            "('E027', 'Ramesh', 'Finance', 'Male', 50000, 2, 30, 'Accountant')\n",
            "('E028', 'Anita', 'HR', 'Female', 45000, 2, 26, 'HR Executive')\n",
            "('E031', 'Ram', 'Sales', 'Male', 56000, 2, 29, 'Sales Executive')\n",
            "('E032', 'Hari', 'IT', 'Male', 62000, 1, 27, 'Software Engineer')\n",
            "('E033', 'Pooja', 'HR', 'Female', 47000, 2, 26, 'HR Executive')\n",
            "('E035', 'Sabina', 'Sales', 'Female', 59000, 2, 28, 'Sales Executive')\n",
            "('E041', 'Rohit', 'IT', 'Male', 68000, 2, 30, 'Software Engineer')\n",
            "('E044', 'Rekha', 'HR', 'Female', 46000, 2, 28, 'HR Executive')\n",
            "('E046', 'Anju', 'Sales', 'Female', 58000, 1, 26, 'Sales Executive')\n",
            "('E048', 'Pooja', 'HR', 'Female', 47000, 2, 27, 'HR Executive')\n",
            "('E049', 'Sujan', 'IT', 'Male', 65000, 2, 28, 'Software Engineer')\n",
            "('E050', 'Bina', 'Sales', 'Female', 54000, 1, 25, 'Sales Executive')\n"
          ]
        }
      ]
    },
    {
      "cell_type": "code",
      "source": [
        "#Find employees in Sales department earning > 55,000.\n",
        "sql = \"SELECT * fROM Employees WHERE Department = 'Sales' AND salary > 55000\"\n",
        "cursor.execute(sql)\n",
        "\n",
        "for row in cursor.fetchall():\n",
        "  print(row)\n"
      ],
      "metadata": {
        "colab": {
          "base_uri": "https://localhost:8080/"
        },
        "id": "1_WaMVVI3KBI",
        "outputId": "83c8e121-0735-495b-d2ec-61a6050c6cca"
      },
      "execution_count": 221,
      "outputs": [
        {
          "output_type": "stream",
          "name": "stdout",
          "text": [
            "('E008', 'Bikash', 'Sales', 'Male', 58000, 1, 25, 'Sales Executive')\n",
            "('E016', 'Sabina', 'Sales', 'Female', 59000, 2, 28, 'Sales Executive')\n",
            "('E020', 'Sonal', 'Sales', 'Female', 56000, 1, 24, 'Sales Executive')\n",
            "('E026', 'Bina', 'Sales', 'Female', 57000, 1, 25, 'Sales Executive')\n",
            "('E031', 'Ram', 'Sales', 'Male', 56000, 2, 29, 'Sales Executive')\n",
            "('E035', 'Sabina', 'Sales', 'Female', 59000, 2, 28, 'Sales Executive')\n",
            "('E046', 'Anju', 'Sales', 'Female', 58000, 1, 26, 'Sales Executive')\n"
          ]
        }
      ]
    },
    {
      "cell_type": "code",
      "source": [
        "#Find employees in HR or Finance department.\n",
        "sql = \"SELECT * fROM Employees WHERE Department = 'HR' OR Department = 'Finance'\"\n",
        "cursor.execute(sql)\n",
        "\n",
        "for row in cursor.fetchall():\n",
        "  print(row)"
      ],
      "metadata": {
        "colab": {
          "base_uri": "https://localhost:8080/"
        },
        "id": "-KSoRjQc3cuj",
        "outputId": "df5829e6-d1b0-46f2-bd87-784030554f68"
      },
      "execution_count": 222,
      "outputs": [
        {
          "output_type": "stream",
          "name": "stdout",
          "text": [
            "('E002', 'Sita', 'HR', 'Female', 48000, 4, 32, 'HR Manager')\n",
            "('E005', 'Ramesh', 'Finance', 'Male', 47000, 5, 35, 'Accountant')\n",
            "('E007', 'Anita', 'HR', 'Female', 45000, 2, 27, 'HR Executive')\n",
            "('E009', 'Rekha', 'Finance', 'Female', 50000, 3, 30, 'Accountant')\n",
            "('E013', 'Dipak', 'Finance', 'Male', 48000, 4, 33, 'Accountant')\n",
            "('E014', 'Laxmi', 'HR', 'Female', 46000, 1, 25, 'HR Executive')\n",
            "('E017', 'Raj', 'Finance', 'Male', 51000, 3, 31, 'Accountant')\n",
            "('E018', 'Pooja', 'HR', 'Female', 47000, 2, 26, 'HR Executive')\n",
            "('E023', 'Kamal', 'Finance', 'Male', 49000, 4, 32, 'Accountant')\n",
            "('E024', 'Sita', 'HR', 'Female', 46000, 3, 28, 'HR Executive')\n",
            "('E027', 'Ramesh', 'Finance', 'Male', 50000, 2, 30, 'Accountant')\n",
            "('E028', 'Anita', 'HR', 'Female', 45000, 2, 26, 'HR Executive')\n",
            "('E033', 'Pooja', 'HR', 'Female', 47000, 2, 26, 'HR Executive')\n",
            "('E034', 'Dipak', 'Finance', 'Male', 48000, 3, 33, 'Accountant')\n",
            "('E037', 'Rekha', 'Finance', 'Female', 50000, 3, 31, 'Accountant')\n",
            "('E043', 'Sanjay', 'Finance', 'Male', 47000, 4, 33, 'Accountant')\n",
            "('E044', 'Rekha', 'HR', 'Female', 46000, 2, 28, 'HR Executive')\n",
            "('E047', 'Ramesh', 'Finance', 'Male', 50000, 3, 31, 'Accountant')\n",
            "('E048', 'Pooja', 'HR', 'Female', 47000, 2, 27, 'HR Executive')\n"
          ]
        }
      ]
    },
    {
      "cell_type": "code",
      "source": [
        "#Find average salary per department.\n",
        "sql = \"SELECT Department,AVG(salary) as average_salary FROM Employees GROUP BY Department\"\n",
        "df = pd.read_sql(sql, conn)\n",
        "# for row in cursor.fetchall():\n",
        "#   print(row)\n",
        "\n",
        "print(df)\n",
        "mylabels = df.Department\n",
        "plt.pie(df.average_salary,labels=mylabels,autopct='%.0f%%')\n",
        "plt.title(\"Average Salary Department wise\")\n",
        "plt.legend()\n",
        "plt.show()\n"
      ],
      "metadata": {
        "colab": {
          "base_uri": "https://localhost:8080/",
          "height": 515
        },
        "id": "-VB32AO2zkQd",
        "outputId": "52098e14-c679-4427-becc-a98bf8557d7f"
      },
      "execution_count": 223,
      "outputs": [
        {
          "output_type": "stream",
          "name": "stdout",
          "text": [
            "  Department  average_salary\n",
            "0    Finance    49000.000000\n",
            "1         HR    46333.333333\n",
            "2         IT    66437.500000\n",
            "3      Sales    55400.000000\n"
          ]
        },
        {
          "output_type": "display_data",
          "data": {
            "text/plain": [
              "<Figure size 640x480 with 1 Axes>"
            ],
            "image/png": "[encoded data removed]"
          },
          "metadata": {}
        }
      ]
    },
    {
      "cell_type": "code",
      "source": [
        "#Count employees by department.\n",
        "#Find average salary per department.\n",
        "sql = \"SELECT Department,count(EmpID) as total_employee FROM Employees GROUP BY Department\"\n",
        "df = pd.read_sql(sql, conn)\n",
        "# for row in cursor.fetchall():\n",
        "#   print(row)\n",
        "print(df)\n",
        "mylabels = df.Department\n",
        "custom_colors = ['red','yellow','blue','green']\n",
        "plt.bar(df.Department,df.total_employee,label=mylabels,color = custom_colors)\n",
        "plt.xlabel('Departments')\n",
        "plt.ylabel('Total Numbers')\n",
        "plt.title(\"Total Employees in each Department\")\n",
        "plt.legend()\n",
        "plt.show()\n"
      ],
      "metadata": {
        "colab": {
          "base_uri": "https://localhost:8080/",
          "height": 559
        },
        "id": "tgacl8PM27yC",
        "outputId": "0ce6234c-c0d2-4f6b-adcd-a62adec56d33"
      },
      "execution_count": 224,
      "outputs": [
        {
          "output_type": "stream",
          "name": "stdout",
          "text": [
            "  Department  total_employee\n",
            "0    Finance              10\n",
            "1         HR               9\n",
            "2         IT              16\n",
            "3      Sales              15\n"
          ]
        },
        {
          "output_type": "display_data",
          "data": {
            "text/plain": [
              "<Figure size 640x480 with 1 Axes>"
            ],
            "image/png": "[encoded data removed]"
          },
          "metadata": {}
        }
      ]
    },
    {
      "cell_type": "code",
      "source": [
        "#Count employees by gender\n",
        "sql = \"SELECT Gender , count(EmpID) as total FROM Employees GROUP BY Gender\"\n",
        "df = pd.read_sql(sql, conn)\n",
        "print(df)\n",
        "\n",
        "mylabels = df.Gender\n",
        "custom_colors = ['blue','green']\n",
        "plt.bar(df.Gender,df.total,label=mylabels,color = custom_colors,width=0.4)\n",
        "plt.xlabel('Gender')\n",
        "plt.ylabel('Total Numbers')\n",
        "plt.title(\"Total Female and Male\")\n",
        "plt.legend()\n",
        "plt.show()\n"
      ],
      "metadata": {
        "colab": {
          "base_uri": "https://localhost:8080/",
          "height": 524
        },
        "id": "YZWKyxZr6_wm",
        "outputId": "8f9f7770-4cfc-4af6-b511-3f5d8d66d93f"
      },
      "execution_count": 225,
      "outputs": [
        {
          "output_type": "stream",
          "name": "stdout",
          "text": [
            "   Gender  total\n",
            "0  Female     23\n",
            "1    Male     27\n"
          ]
        },
        {
          "output_type": "display_data",
          "data": {
            "text/plain": [
              "<Figure size 640x480 with 1 Axes>"
            ],
            "image/png": "[encoded data removed]"
          },
          "metadata": {}
        }
      ]
    },
    {
      "cell_type": "code",
      "source": [
        "#Find department with the highest average salary.\n",
        "sql = \"SELECT Department,AVG(salary) as avg_salary from Employees GROUP By Department ORDER BY avg_salary DESC LIMIT 1\"\n",
        "df = pd.read_sql(sql, conn)\n",
        "print(df)\n"
      ],
      "metadata": {
        "colab": {
          "base_uri": "https://localhost:8080/"
        },
        "id": "mYO-vHXA8XNm",
        "outputId": "0be8557f-6c96-4768-cf29-16fd6f6bfec2"
      },
      "execution_count": 226,
      "outputs": [
        {
          "output_type": "stream",
          "name": "stdout",
          "text": [
            "  Department  avg_salary\n",
            "0         IT     66437.5\n"
          ]
        }
      ]
    },
    {
      "cell_type": "code",
      "source": [
        "#Show top 5 highest-paid employees. Show employees ordered by department then salary descending.\n",
        "sql = \"SELECT DISTINCT  Name,salary from Employees ORDER BY salary DESC LIMIT 5\"\n",
        "df = pd.read_sql(sql, conn)\n",
        "\n",
        "\n",
        "mylabels = df.Name\n",
        "custom_colors = ['red','yellow','blue','green','pink']\n",
        "plt.bar(df[\"Name\"],df[\"Salary\"],label=mylabels,color = custom_colors,width=0.4,)\n",
        "plt.xlabel('Name of Employee')\n",
        "plt.ylabel('Amount of Salary')\n",
        "plt.title(\"Top 5 highest paid employee\")\n",
        "plt.legend()\n",
        "plt.show()\n"
      ],
      "metadata": {
        "colab": {
          "base_uri": "https://localhost:8080/",
          "height": 472
        },
        "id": "cv_UqR9D-ybh",
        "outputId": "49761c58-68a4-449e-d8c2-e2a95b6579bd"
      },
      "execution_count": 227,
      "outputs": [
        {
          "output_type": "display_data",
          "data": {
            "text/plain": [
              "<Figure size 640x480 with 1 Axes>"
            ],
            "image/png": "[encoded data removed]"
          },
          "metadata": {}
        }
      ]
    },
    {
      "cell_type": "code",
      "source": [
        "#Show employees ordered by department then salary descending.\n",
        "sql = \"SELECT * from Employees ORDER BY department,salary desc\"\n",
        "df = pd.read_sql(sql, conn)\n",
        "print(df)"
      ],
      "metadata": {
        "colab": {
          "base_uri": "https://localhost:8080/"
        },
        "id": "0wov5KmjBQ--",
        "outputId": "4110fe6a-5cec-4fec-f53d-06652a8ac811"
      },
      "execution_count": 228,
      "outputs": [
        {
          "output_type": "stream",
          "name": "stdout",
          "text": [
            "   EmpID     Name Department  Gender  Salary  YearsAtCompany  Age  \\\n",
            "0   E017      Raj    Finance    Male   51000               3   31   \n",
            "1   E009    Rekha    Finance  Female   50000               3   30   \n",
            "2   E027   Ramesh    Finance    Male   50000               2   30   \n",
            "3   E037    Rekha    Finance  Female   50000               3   31   \n",
            "4   E047   Ramesh    Finance    Male   50000               3   31   \n",
            "5   E023    Kamal    Finance    Male   49000               4   32   \n",
            "6   E013    Dipak    Finance    Male   48000               4   33   \n",
            "7   E034    Dipak    Finance    Male   48000               3   33   \n",
            "8   E005   Ramesh    Finance    Male   47000               5   35   \n",
            "9   E043   Sanjay    Finance    Male   47000               4   33   \n",
            "10  E002     Sita         HR  Female   48000               4   32   \n",
            "11  E018    Pooja         HR  Female   47000               2   26   \n",
            "12  E033    Pooja         HR  Female   47000               2   26   \n",
            "13  E048    Pooja         HR  Female   47000               2   27   \n",
            "14  E014    Laxmi         HR  Female   46000               1   25   \n",
            "15  E024     Sita         HR  Female   46000               3   28   \n",
            "16  E044    Rekha         HR  Female   46000               2   28   \n",
            "17  E007    Anita         HR  Female   45000               2   27   \n",
            "18  E028    Anita         HR  Female   45000               2   26   \n",
            "19  E006    Suman         IT    Male   75000               6   38   \n",
            "20  E039    Suman         IT    Male   75000               6   38   \n",
            "21  E015  Prakash         IT    Male   72000               5   36   \n",
            "22  E045   Dipesh         IT    Male   72000               5   36   \n",
            "23  E025    Nabin         IT    Male   71000               5   35   \n",
            "24  E041    Rohit         IT    Male   68000               2   30   \n",
            "25  E010    Sujan         IT    Male   65000               2   28   \n",
            "26  E029    Sujan         IT    Male   65000               4   31   \n",
            "27  E049    Sujan         IT    Male   65000               2   28   \n",
            "28  E019     Anil         IT    Male   64000               4   30   \n",
            "29  E036     Anil         IT    Male   64000               4   30   \n",
            "30  E021    Manoj         IT    Male   63000               3   29   \n",
            "31  E032     Hari         IT    Male   62000               1   27   \n",
            "32  E011    Kiran         IT    Male   61000               3   29   \n",
            "33  E040    Kiran         IT    Male   61000               3   29   \n",
            "34  E003     Hari         IT    Male   60000               1   26   \n",
            "35  E016   Sabina      Sales  Female   59000               2   28   \n",
            "36  E035   Sabina      Sales  Female   59000               2   28   \n",
            "37  E008   Bikash      Sales    Male   58000               1   25   \n",
            "38  E046     Anju      Sales  Female   58000               1   26   \n",
            "39  E026     Bina      Sales  Female   57000               1   25   \n",
            "40  E020    Sonal      Sales  Female   56000               1   24   \n",
            "41  E031      Ram      Sales    Male   56000               2   29   \n",
            "42  E001      Ram      Sales    Male   55000               2   28   \n",
            "43  E042     Maya      Sales  Female   55000               3   27   \n",
            "44  E022     Rina      Sales  Female   54000               2   27   \n",
            "45  E050     Bina      Sales  Female   54000               1   25   \n",
            "46  E012     Mina      Sales  Female   53000               2   27   \n",
            "47  E030     Mina      Sales  Female   53000               3   28   \n",
            "48  E004     Gita      Sales  Female   52000               3   29   \n",
            "49  E038     Gita      Sales  Female   52000               3   29   \n",
            "\n",
            "              JobRole  \n",
            "0          Accountant  \n",
            "1          Accountant  \n",
            "2          Accountant  \n",
            "3          Accountant  \n",
            "4          Accountant  \n",
            "5          Accountant  \n",
            "6          Accountant  \n",
            "7          Accountant  \n",
            "8          Accountant  \n",
            "9          Accountant  \n",
            "10         HR Manager  \n",
            "11       HR Executive  \n",
            "12       HR Executive  \n",
            "13       HR Executive  \n",
            "14       HR Executive  \n",
            "15       HR Executive  \n",
            "16       HR Executive  \n",
            "17       HR Executive  \n",
            "18       HR Executive  \n",
            "19   Senior Developer  \n",
            "20   Senior Developer  \n",
            "21   Senior Developer  \n",
            "22   Senior Developer  \n",
            "23   Senior Developer  \n",
            "24  Software Engineer  \n",
            "25  Software Engineer  \n",
            "26  Software Engineer  \n",
            "27  Software Engineer  \n",
            "28  Software Engineer  \n",
            "29  Software Engineer  \n",
            "30  Software Engineer  \n",
            "31  Software Engineer  \n",
            "32  Software Engineer  \n",
            "33  Software Engineer  \n",
            "34  Software Engineer  \n",
            "35    Sales Executive  \n",
            "36    Sales Executive  \n",
            "37    Sales Executive  \n",
            "38    Sales Executive  \n",
            "39    Sales Executive  \n",
            "40    Sales Executive  \n",
            "41    Sales Executive  \n",
            "42    Sales Executive  \n",
            "43    Sales Executive  \n",
            "44    Sales Executive  \n",
            "45    Sales Executive  \n",
            "46    Sales Executive  \n",
            "47    Sales Executive  \n",
            "48    Sales Executive  \n",
            "49    Sales Executive  \n"
          ]
        }
      ]
    },
    {
      "cell_type": "code",
      "source": [
        "#List employees with their department name.\n",
        "sql = \"SELECT Name,Department from Employees\"\n",
        "df = pd.read_sql(sql, conn)\n",
        "print(df)\n",
        "\n"
      ],
      "metadata": {
        "colab": {
          "base_uri": "https://localhost:8080/"
        },
        "id": "rEx6NpVNGIhc",
        "outputId": "f4905950-d711-4dfd-823e-e2e2bebf5ca7"
      },
      "execution_count": 229,
      "outputs": [
        {
          "output_type": "stream",
          "name": "stdout",
          "text": [
            "       Name Department\n",
            "0       Ram      Sales\n",
            "1      Sita         HR\n",
            "2      Hari         IT\n",
            "3      Gita      Sales\n",
            "4    Ramesh    Finance\n",
            "5     Suman         IT\n",
            "6     Anita         HR\n",
            "7    Bikash      Sales\n",
            "8     Rekha    Finance\n",
            "9     Sujan         IT\n",
            "10    Kiran         IT\n",
            "11     Mina      Sales\n",
            "12    Dipak    Finance\n",
            "13    Laxmi         HR\n",
            "14  Prakash         IT\n",
            "15   Sabina      Sales\n",
            "16      Raj    Finance\n",
            "17    Pooja         HR\n",
            "18     Anil         IT\n",
            "19    Sonal      Sales\n",
            "20    Manoj         IT\n",
            "21     Rina      Sales\n",
            "22    Kamal    Finance\n",
            "23     Sita         HR\n",
            "24    Nabin         IT\n",
            "25     Bina      Sales\n",
            "26   Ramesh    Finance\n",
            "27    Anita         HR\n",
            "28    Sujan         IT\n",
            "29     Mina      Sales\n",
            "30      Ram      Sales\n",
            "31     Hari         IT\n",
            "32    Pooja         HR\n",
            "33    Dipak    Finance\n",
            "34   Sabina      Sales\n",
            "35     Anil         IT\n",
            "36    Rekha    Finance\n",
            "37     Gita      Sales\n",
            "38    Suman         IT\n",
            "39    Kiran         IT\n",
            "40    Rohit         IT\n",
            "41     Maya      Sales\n",
            "42   Sanjay    Finance\n",
            "43    Rekha         HR\n",
            "44   Dipesh         IT\n",
            "45     Anju      Sales\n",
            "46   Ramesh    Finance\n",
            "47    Pooja         HR\n",
            "48    Sujan         IT\n",
            "49     Bina      Sales\n"
          ]
        }
      ]
    },
    {
      "cell_type": "code",
      "source": [
        "#Find employees in “IT” department earning more than 50k.\n",
        "sql = \"SELECT * from Employees WHERE department = 'IT' AND salary > 50000\"\n",
        "df = pd.read_sql(sql, conn)\n",
        "print(df)\n"
      ],
      "metadata": {
        "colab": {
          "base_uri": "https://localhost:8080/"
        },
        "id": "LjmDIxw3G1ES",
        "outputId": "85a9bda6-a76b-4a23-f798-05e6191ac630"
      },
      "execution_count": 230,
      "outputs": [
        {
          "output_type": "stream",
          "name": "stdout",
          "text": [
            "   EmpID     Name Department Gender  Salary  YearsAtCompany  Age  \\\n",
            "0   E003     Hari         IT   Male   60000               1   26   \n",
            "1   E006    Suman         IT   Male   75000               6   38   \n",
            "2   E010    Sujan         IT   Male   65000               2   28   \n",
            "3   E011    Kiran         IT   Male   61000               3   29   \n",
            "4   E015  Prakash         IT   Male   72000               5   36   \n",
            "5   E019     Anil         IT   Male   64000               4   30   \n",
            "6   E021    Manoj         IT   Male   63000               3   29   \n",
            "7   E025    Nabin         IT   Male   71000               5   35   \n",
            "8   E029    Sujan         IT   Male   65000               4   31   \n",
            "9   E032     Hari         IT   Male   62000               1   27   \n",
            "10  E036     Anil         IT   Male   64000               4   30   \n",
            "11  E039    Suman         IT   Male   75000               6   38   \n",
            "12  E040    Kiran         IT   Male   61000               3   29   \n",
            "13  E041    Rohit         IT   Male   68000               2   30   \n",
            "14  E045   Dipesh         IT   Male   72000               5   36   \n",
            "15  E049    Sujan         IT   Male   65000               2   28   \n",
            "\n",
            "              JobRole  \n",
            "0   Software Engineer  \n",
            "1    Senior Developer  \n",
            "2   Software Engineer  \n",
            "3   Software Engineer  \n",
            "4    Senior Developer  \n",
            "5   Software Engineer  \n",
            "6   Software Engineer  \n",
            "7    Senior Developer  \n",
            "8   Software Engineer  \n",
            "9   Software Engineer  \n",
            "10  Software Engineer  \n",
            "11   Senior Developer  \n",
            "12  Software Engineer  \n",
            "13  Software Engineer  \n",
            "14   Senior Developer  \n",
            "15  Software Engineer  \n"
          ]
        }
      ]
    },
    {
      "cell_type": "code",
      "source": [
        "#Show department-wise highest paid employee.\n",
        "sql = \"\"\"\n",
        "            SELECT Distinct *\n",
        "            FROM (\n",
        "                SELECT\n",
        "                    Name,Department,Salary,\n",
        "                    RANK() OVER (PARTITION BY Department ORDER BY Salary DESC) AS emp_rank\n",
        "                FROM Employees\n",
        "            ) AS ranked\n",
        "            WHERE emp_rank = 1;\n",
        "          \"\"\"\n",
        "df = pd.read_sql(sql, conn)\n",
        "\n",
        "custom_colors = ['red','yellow','blue','green','pink']\n",
        "plt.bar(df[\"Department\"], df[\"Salary\"], color=custom_colors,label=[\"Finance\",\"HR\",\"IT\",\"Sales\"])\n",
        "for i, val in enumerate(df[\"Salary\"]):\n",
        "    plt.text(i, val + 500, df[\"Name\"][i], ha='center', fontsize=9)\n",
        "plt.xlabel(\"Department\")\n",
        "plt.ylabel(\"Salary\")\n",
        "plt.title(\"Highest Paid Employee in Each Department\")\n",
        "plt.legend()\n",
        "plt.show()\n",
        "\n",
        "\n",
        "\n"
      ],
      "metadata": {
        "colab": {
          "base_uri": "https://localhost:8080/",
          "height": 472
        },
        "id": "k7r9y28rHv_L",
        "outputId": "4d7a2c12-4c57-41f6-c616-19c93a647d00"
      },
      "execution_count": 231,
      "outputs": [
        {
          "output_type": "display_data",
          "data": {
            "text/plain": [
              "<Figure size 640x480 with 1 Axes>"
            ],
            "image/png": "[encoded data removed]"
          },
          "metadata": {}
        }
      ]
    },
    {
      "cell_type": "code",
      "source": [
        "#Find employees earning above average salary.\n",
        "sql = \"\"\"\n",
        "            SELECT Distinct *\n",
        "            FROM Employees\n",
        "            WHERE salary > (\n",
        "                SELECT AVG(salary)\n",
        "                FROM Employees GROUP BY Department\n",
        "            )\n",
        "          \"\"\"\n",
        "df = pd.read_sql(sql, conn)\n",
        "print(df)\n"
      ],
      "metadata": {
        "colab": {
          "base_uri": "https://localhost:8080/"
        },
        "id": "bShOrB1uMTnp",
        "outputId": "cd4e1f4d-1798-4e09-bc68-e8b51d0a6281"
      },
      "execution_count": 232,
      "outputs": [
        {
          "output_type": "stream",
          "name": "stdout",
          "text": [
            "   EmpID     Name Department  Gender  Salary  YearsAtCompany  Age  \\\n",
            "0   E001      Ram      Sales    Male   55000               2   28   \n",
            "1   E003     Hari         IT    Male   60000               1   26   \n",
            "2   E004     Gita      Sales  Female   52000               3   29   \n",
            "3   E006    Suman         IT    Male   75000               6   38   \n",
            "4   E008   Bikash      Sales    Male   58000               1   25   \n",
            "5   E009    Rekha    Finance  Female   50000               3   30   \n",
            "6   E010    Sujan         IT    Male   65000               2   28   \n",
            "7   E011    Kiran         IT    Male   61000               3   29   \n",
            "8   E012     Mina      Sales  Female   53000               2   27   \n",
            "9   E015  Prakash         IT    Male   72000               5   36   \n",
            "10  E016   Sabina      Sales  Female   59000               2   28   \n",
            "11  E017      Raj    Finance    Male   51000               3   31   \n",
            "12  E019     Anil         IT    Male   64000               4   30   \n",
            "13  E020    Sonal      Sales  Female   56000               1   24   \n",
            "14  E021    Manoj         IT    Male   63000               3   29   \n",
            "15  E022     Rina      Sales  Female   54000               2   27   \n",
            "16  E025    Nabin         IT    Male   71000               5   35   \n",
            "17  E026     Bina      Sales  Female   57000               1   25   \n",
            "18  E027   Ramesh    Finance    Male   50000               2   30   \n",
            "19  E029    Sujan         IT    Male   65000               4   31   \n",
            "20  E030     Mina      Sales  Female   53000               3   28   \n",
            "21  E031      Ram      Sales    Male   56000               2   29   \n",
            "22  E032     Hari         IT    Male   62000               1   27   \n",
            "23  E035   Sabina      Sales  Female   59000               2   28   \n",
            "24  E036     Anil         IT    Male   64000               4   30   \n",
            "25  E037    Rekha    Finance  Female   50000               3   31   \n",
            "26  E038     Gita      Sales  Female   52000               3   29   \n",
            "27  E039    Suman         IT    Male   75000               6   38   \n",
            "28  E040    Kiran         IT    Male   61000               3   29   \n",
            "29  E041    Rohit         IT    Male   68000               2   30   \n",
            "30  E042     Maya      Sales  Female   55000               3   27   \n",
            "31  E045   Dipesh         IT    Male   72000               5   36   \n",
            "32  E046     Anju      Sales  Female   58000               1   26   \n",
            "33  E047   Ramesh    Finance    Male   50000               3   31   \n",
            "34  E049    Sujan         IT    Male   65000               2   28   \n",
            "35  E050     Bina      Sales  Female   54000               1   25   \n",
            "\n",
            "              JobRole  \n",
            "0     Sales Executive  \n",
            "1   Software Engineer  \n",
            "2     Sales Executive  \n",
            "3    Senior Developer  \n",
            "4     Sales Executive  \n",
            "5          Accountant  \n",
            "6   Software Engineer  \n",
            "7   Software Engineer  \n",
            "8     Sales Executive  \n",
            "9    Senior Developer  \n",
            "10    Sales Executive  \n",
            "11         Accountant  \n",
            "12  Software Engineer  \n",
            "13    Sales Executive  \n",
            "14  Software Engineer  \n",
            "15    Sales Executive  \n",
            "16   Senior Developer  \n",
            "17    Sales Executive  \n",
            "18         Accountant  \n",
            "19  Software Engineer  \n",
            "20    Sales Executive  \n",
            "21    Sales Executive  \n",
            "22  Software Engineer  \n",
            "23    Sales Executive  \n",
            "24  Software Engineer  \n",
            "25         Accountant  \n",
            "26    Sales Executive  \n",
            "27   Senior Developer  \n",
            "28  Software Engineer  \n",
            "29  Software Engineer  \n",
            "30    Sales Executive  \n",
            "31   Senior Developer  \n",
            "32    Sales Executive  \n",
            "33         Accountant  \n",
            "34  Software Engineer  \n",
            "35    Sales Executive  \n"
          ]
        }
      ]
    },
    {
      "cell_type": "code",
      "source": [
        "#Find employees who earn more than “Ram”.\n",
        "sql =  \"\"\"\n",
        "            SELECT Distinct *\n",
        "            FROM Employees\n",
        "            WHERE salary > (\n",
        "                SELECT salary\n",
        "                FROM Employees WHERE Name = 'Ram'\n",
        "            )\n",
        "          \"\"\"\n",
        "df = pd.read_sql(sql, conn)\n",
        "print(df)"
      ],
      "metadata": {
        "colab": {
          "base_uri": "https://localhost:8080/"
        },
        "id": "r-6RsKcDNMZ1",
        "outputId": "1f80f712-d45f-4a44-e153-4e550f7d607a"
      },
      "execution_count": 233,
      "outputs": [
        {
          "output_type": "stream",
          "name": "stdout",
          "text": [
            "   EmpID     Name Department  Gender  Salary  YearsAtCompany  Age  \\\n",
            "0   E003     Hari         IT    Male   60000               1   26   \n",
            "1   E006    Suman         IT    Male   75000               6   38   \n",
            "2   E008   Bikash      Sales    Male   58000               1   25   \n",
            "3   E010    Sujan         IT    Male   65000               2   28   \n",
            "4   E011    Kiran         IT    Male   61000               3   29   \n",
            "5   E015  Prakash         IT    Male   72000               5   36   \n",
            "6   E016   Sabina      Sales  Female   59000               2   28   \n",
            "7   E019     Anil         IT    Male   64000               4   30   \n",
            "8   E020    Sonal      Sales  Female   56000               1   24   \n",
            "9   E021    Manoj         IT    Male   63000               3   29   \n",
            "10  E025    Nabin         IT    Male   71000               5   35   \n",
            "11  E026     Bina      Sales  Female   57000               1   25   \n",
            "12  E029    Sujan         IT    Male   65000               4   31   \n",
            "13  E031      Ram      Sales    Male   56000               2   29   \n",
            "14  E032     Hari         IT    Male   62000               1   27   \n",
            "15  E035   Sabina      Sales  Female   59000               2   28   \n",
            "16  E036     Anil         IT    Male   64000               4   30   \n",
            "17  E039    Suman         IT    Male   75000               6   38   \n",
            "18  E040    Kiran         IT    Male   61000               3   29   \n",
            "19  E041    Rohit         IT    Male   68000               2   30   \n",
            "20  E045   Dipesh         IT    Male   72000               5   36   \n",
            "21  E046     Anju      Sales  Female   58000               1   26   \n",
            "22  E049    Sujan         IT    Male   65000               2   28   \n",
            "\n",
            "              JobRole  \n",
            "0   Software Engineer  \n",
            "1    Senior Developer  \n",
            "2     Sales Executive  \n",
            "3   Software Engineer  \n",
            "4   Software Engineer  \n",
            "5    Senior Developer  \n",
            "6     Sales Executive  \n",
            "7   Software Engineer  \n",
            "8     Sales Executive  \n",
            "9   Software Engineer  \n",
            "10   Senior Developer  \n",
            "11    Sales Executive  \n",
            "12  Software Engineer  \n",
            "13    Sales Executive  \n",
            "14  Software Engineer  \n",
            "15    Sales Executive  \n",
            "16  Software Engineer  \n",
            "17   Senior Developer  \n",
            "18  Software Engineer  \n",
            "19  Software Engineer  \n",
            "20   Senior Developer  \n",
            "21    Sales Executive  \n",
            "22  Software Engineer  \n"
          ]
        }
      ]
    },
    {
      "cell_type": "code",
      "source": [
        "#Find employees who earn the minimum salary in their department.\n",
        "sql = \"\"\"\n",
        "            SELECT Distinct *\n",
        "            FROM (\n",
        "                SELECT\n",
        "                    Name,Department,Salary,\n",
        "                    RANK() OVER (PARTITION BY Department ORDER BY Salary) AS emp_rank\n",
        "                FROM Employees\n",
        "            ) AS ranked\n",
        "            WHERE emp_rank = 1;\n",
        "          \"\"\"\n",
        "df = pd.read_sql(sql, conn)\n",
        "print(df)\n"
      ],
      "metadata": {
        "colab": {
          "base_uri": "https://localhost:8080/"
        },
        "id": "B2Oqp1Y-Nh7z",
        "outputId": "059d9af7-cc8d-47f1-b653-f319ade9693b"
      },
      "execution_count": 234,
      "outputs": [
        {
          "output_type": "stream",
          "name": "stdout",
          "text": [
            "     Name Department  Salary  emp_rank\n",
            "0  Ramesh    Finance   47000         1\n",
            "1  Sanjay    Finance   47000         1\n",
            "2   Anita         HR   45000         1\n",
            "3    Hari         IT   60000         1\n",
            "4    Gita      Sales   52000         1\n"
          ]
        }
      ]
    },
    {
      "cell_type": "code",
      "source": [
        "#Find top 3 earners in each department.\n",
        "sql = \"\"\"\n",
        "            SELECT *\n",
        "            FROM (\n",
        "                SELECT\n",
        "                    Name,Department,Salary,\n",
        "                    ROW_NUMBER() OVER (PARTITION BY Department ORDER BY Salary DESC) AS emp_rank\n",
        "                FROM Employees\n",
        "            ) AS ranked\n",
        "            WHERE emp_rank\n",
        "            <= 3;\n",
        "          \"\"\"\n",
        "df = pd.read_sql(sql, conn)\n",
        "print(df)"
      ],
      "metadata": {
        "colab": {
          "base_uri": "https://localhost:8080/"
        },
        "id": "fMesxoN7Odi5",
        "outputId": "f045e96c-aaac-412f-c7ac-2797bf76a9ca"
      },
      "execution_count": 235,
      "outputs": [
        {
          "output_type": "stream",
          "name": "stdout",
          "text": [
            "       Name Department  Salary  emp_rank\n",
            "0       Raj    Finance   51000         1\n",
            "1     Rekha    Finance   50000         2\n",
            "2    Ramesh    Finance   50000         3\n",
            "3      Sita         HR   48000         1\n",
            "4     Pooja         HR   47000         2\n",
            "5     Pooja         HR   47000         3\n",
            "6     Suman         IT   75000         1\n",
            "7     Suman         IT   75000         2\n",
            "8   Prakash         IT   72000         3\n",
            "9    Sabina      Sales   59000         1\n",
            "10   Sabina      Sales   59000         2\n",
            "11   Bikash      Sales   58000         3\n"
          ]
        }
      ]
    },
    {
      "cell_type": "code",
      "source": [
        "#Calculate running total of salaries by department.\n",
        "sql = \"\"\"\n",
        "            SELECT Name,Salary,Department,\n",
        "            SUM(Salary)\n",
        "            OVER(PARTITION BY Department\n",
        "            ORDER BY Salary\n",
        "            ROWS BETWEEN UNBOUNDED PRECEDING AND CURRENT ROW\n",
        "            ) AS total_salary\n",
        "            FROM employees;\n",
        "          \"\"\"\n",
        "df = pd.read_sql(sql, conn)\n",
        "print(df)\n"
      ],
      "metadata": {
        "colab": {
          "base_uri": "https://localhost:8080/"
        },
        "id": "y-ZsvFteO6vg",
        "outputId": "aeb7ca19-8210-49a7-a336-a33febe19d81"
      },
      "execution_count": 236,
      "outputs": [
        {
          "output_type": "stream",
          "name": "stdout",
          "text": [
            "       Name  Salary Department  total_salary\n",
            "0    Ramesh   47000    Finance         47000\n",
            "1    Sanjay   47000    Finance         94000\n",
            "2     Dipak   48000    Finance        142000\n",
            "3     Dipak   48000    Finance        190000\n",
            "4     Kamal   49000    Finance        239000\n",
            "5     Rekha   50000    Finance        289000\n",
            "6    Ramesh   50000    Finance        339000\n",
            "7     Rekha   50000    Finance        389000\n",
            "8    Ramesh   50000    Finance        439000\n",
            "9       Raj   51000    Finance        490000\n",
            "10    Anita   45000         HR         45000\n",
            "11    Anita   45000         HR         90000\n",
            "12    Laxmi   46000         HR        136000\n",
            "13     Sita   46000         HR        182000\n",
            "14    Rekha   46000         HR        228000\n",
            "15    Pooja   47000         HR        275000\n",
            "16    Pooja   47000         HR        322000\n",
            "17    Pooja   47000         HR        369000\n",
            "18     Sita   48000         HR        417000\n",
            "19     Hari   60000         IT         60000\n",
            "20    Kiran   61000         IT        121000\n",
            "21    Kiran   61000         IT        182000\n",
            "22     Hari   62000         IT        244000\n",
            "23    Manoj   63000         IT        307000\n",
            "24     Anil   64000         IT        371000\n",
            "25     Anil   64000         IT        435000\n",
            "26    Sujan   65000         IT        500000\n",
            "27    Sujan   65000         IT        565000\n",
            "28    Sujan   65000         IT        630000\n",
            "29    Rohit   68000         IT        698000\n",
            "30    Nabin   71000         IT        769000\n",
            "31  Prakash   72000         IT        841000\n",
            "32   Dipesh   72000         IT        913000\n",
            "33    Suman   75000         IT        988000\n",
            "34    Suman   75000         IT       1063000\n",
            "35     Gita   52000      Sales         52000\n",
            "36     Gita   52000      Sales        104000\n",
            "37     Mina   53000      Sales        157000\n",
            "38     Mina   53000      Sales        210000\n",
            "39     Rina   54000      Sales        264000\n",
            "40     Bina   54000      Sales        318000\n",
            "41      Ram   55000      Sales        373000\n",
            "42     Maya   55000      Sales        428000\n",
            "43    Sonal   56000      Sales        484000\n",
            "44      Ram   56000      Sales        540000\n",
            "45     Bina   57000      Sales        597000\n",
            "46   Bikash   58000      Sales        655000\n",
            "47     Anju   58000      Sales        713000\n",
            "48   Sabina   59000      Sales        772000\n",
            "49   Sabina   59000      Sales        831000\n"
          ]
        }
      ]
    },
    {
      "cell_type": "code",
      "source": [
        "#Compare each employee’s salary to department average.\n",
        "\n",
        "\n",
        "sql = \"\"\"\n",
        "          SELECT Name,Salary,\n",
        "          AVG(Salary) OVER(PARTITION BY Department) AS dept_avg_salary,\n",
        "          Salary - AVG(Salary) OVER(PARTITION BY Department) AS difference\n",
        "          FROM Employees\n",
        "      \"\"\"\n",
        "\n",
        "df = pd.read_sql(sql, conn)\n",
        "print(df)"
      ],
      "metadata": {
        "colab": {
          "base_uri": "https://localhost:8080/"
        },
        "id": "Cr1XXEyORZ1z",
        "outputId": "4411f265-2720-4e22-e575-ec321d571040"
      },
      "execution_count": 240,
      "outputs": [
        {
          "output_type": "stream",
          "name": "stdout",
          "text": [
            "       Name  Salary  dept_avg_salary   difference\n",
            "0    Ramesh   47000     49000.000000 -2000.000000\n",
            "1     Rekha   50000     49000.000000  1000.000000\n",
            "2     Dipak   48000     49000.000000 -1000.000000\n",
            "3       Raj   51000     49000.000000  2000.000000\n",
            "4     Kamal   49000     49000.000000     0.000000\n",
            "5    Ramesh   50000     49000.000000  1000.000000\n",
            "6     Dipak   48000     49000.000000 -1000.000000\n",
            "7     Rekha   50000     49000.000000  1000.000000\n",
            "8    Sanjay   47000     49000.000000 -2000.000000\n",
            "9    Ramesh   50000     49000.000000  1000.000000\n",
            "10     Sita   48000     46333.333333  1666.666667\n",
            "11    Anita   45000     46333.333333 -1333.333333\n",
            "12    Laxmi   46000     46333.333333  -333.333333\n",
            "13    Pooja   47000     46333.333333   666.666667\n",
            "14     Sita   46000     46333.333333  -333.333333\n",
            "15    Anita   45000     46333.333333 -1333.333333\n",
            "16    Pooja   47000     46333.333333   666.666667\n",
            "17    Rekha   46000     46333.333333  -333.333333\n",
            "18    Pooja   47000     46333.333333   666.666667\n",
            "19     Hari   60000     66437.500000 -6437.500000\n",
            "20    Suman   75000     66437.500000  8562.500000\n",
            "21    Sujan   65000     66437.500000 -1437.500000\n",
            "22    Kiran   61000     66437.500000 -5437.500000\n",
            "23  Prakash   72000     66437.500000  5562.500000\n",
            "24     Anil   64000     66437.500000 -2437.500000\n",
            "25    Manoj   63000     66437.500000 -3437.500000\n",
            "26    Nabin   71000     66437.500000  4562.500000\n",
            "27    Sujan   65000     66437.500000 -1437.500000\n",
            "28     Hari   62000     66437.500000 -4437.500000\n",
            "29     Anil   64000     66437.500000 -2437.500000\n",
            "30    Suman   75000     66437.500000  8562.500000\n",
            "31    Kiran   61000     66437.500000 -5437.500000\n",
            "32    Rohit   68000     66437.500000  1562.500000\n",
            "33   Dipesh   72000     66437.500000  5562.500000\n",
            "34    Sujan   65000     66437.500000 -1437.500000\n",
            "35      Ram   55000     55400.000000  -400.000000\n",
            "36     Gita   52000     55400.000000 -3400.000000\n",
            "37   Bikash   58000     55400.000000  2600.000000\n",
            "38     Mina   53000     55400.000000 -2400.000000\n",
            "39   Sabina   59000     55400.000000  3600.000000\n",
            "40    Sonal   56000     55400.000000   600.000000\n",
            "41     Rina   54000     55400.000000 -1400.000000\n",
            "42     Bina   57000     55400.000000  1600.000000\n",
            "43     Mina   53000     55400.000000 -2400.000000\n",
            "44      Ram   56000     55400.000000   600.000000\n",
            "45   Sabina   59000     55400.000000  3600.000000\n",
            "46     Gita   52000     55400.000000 -3400.000000\n",
            "47     Maya   55000     55400.000000  -400.000000\n",
            "48     Anju   58000     55400.000000  2600.000000\n",
            "49     Bina   54000     55400.000000 -1400.000000\n"
          ]
        }
      ]
    }
  ]
}